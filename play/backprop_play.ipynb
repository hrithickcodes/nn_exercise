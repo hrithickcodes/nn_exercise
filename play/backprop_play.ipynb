{
 "cells": [
  {
   "cell_type": "code",
   "execution_count": 27,
   "metadata": {},
   "outputs": [],
   "source": [
    "import pandas as pd\n",
    "import numpy as np\n",
    "import matplotlib.pyplot as plt\n",
    "%matplotlib inline\n",
    "\n",
    "\n",
    "import plotly.graph_objects as go"
   ]
  },
  {
   "cell_type": "code",
   "execution_count": 3,
   "metadata": {},
   "outputs": [],
   "source": [
    "# A simple expression\n",
    "def f(x):\n",
    "    return 3*x ** 2 - 4*x + 5"
   ]
  },
  {
   "cell_type": "code",
   "execution_count": 4,
   "metadata": {},
   "outputs": [
    {
     "name": "stdout",
     "output_type": "stream",
     "text": [
      "20.0\n"
     ]
    }
   ],
   "source": [
    "# f(x) is a simple function that takes an input and maps it\n",
    "# to an output\n",
    "out = f(3.0)\n",
    "print(out)"
   ]
  },
  {
   "cell_type": "code",
   "execution_count": 8,
   "metadata": {},
   "outputs": [
    {
     "data": {
      "image/png": "[encoded data removed]",
      "text/plain": [
       "<Figure size 640x480 with 1 Axes>"
      ]
     },
     "metadata": {},
     "output_type": "display_data"
    }
   ],
   "source": [
    "# We can also plot f(x)\n",
    "xs = np.arange(start = -10, stop = 10, step = 0.002)\n",
    "ys = f(xs)\n",
    "\n",
    "plt.plot(xs, ys)\n",
    "plt.grid(True)\n",
    "plt.show();"
   ]
  },
  {
   "cell_type": "markdown",
   "metadata": {},
   "source": [
    "Here, \\\n",
    "The function is y = 3x^2 - 4x + 5 \n",
    "\n",
    "derivative:\\\n",
    "dy / dx = 3.2.x - 4\\\n",
    "or, dy / dx = 6x - 4\n",
    "\n",
    "\n",
    "So what is the derivative of this function at x = 2?\\\n",
    "[dy / dx](x = 2) = 6 * 2 - 4 = 8\n",
    "\n",
    "\n",
    "Let's also not forget that derivative is,\n",
    "dy / dx = The rate in which y changes if we slightly nudge x\\\n",
    "So, dy / dx = [f(x + h) - f(x)] / h\\\n",
    "Where h is extremely small!\n",
    "\n",
    "Let's manually verfify if at x = 2, the derivative is 8."
   ]
  },
  {
   "cell_type": "code",
   "execution_count": 17,
   "metadata": {},
   "outputs": [
    {
     "name": "stdout",
     "output_type": "stream",
     "text": [
      "Derivative of y: 8.000711204658728\n"
     ]
    }
   ],
   "source": [
    "x = 2\n",
    "y_old = f(x  = 2)\n",
    "\n",
    "# Nudge x with h\n",
    "h = 0.000000000001\n",
    "\n",
    "# Now x becomes x + h\n",
    "x += h\n",
    "y_new = f(x = x)\n",
    "\n",
    "# Rise over run, how much does y change as we have already changed x by h\n",
    "print('Derivative of y:' , (y_new - y_old) / h)"
   ]
  },
  {
   "cell_type": "code",
   "execution_count": 60,
   "metadata": {},
   "outputs": [
    {
     "data": {
      "application/vnd.plotly.v1+json": {
       "config": {
        "plotlyServerURL": "https://plot.ly"
       },
       "data": [
        {
         "mode": "markers",
         "type": "scatter3d",
         "x": [
          -10,
          -9.75,
          -9.5,
          -9.25,
          -9,
          -8.75,
          -8.5,
          -8.25,
          -8,
          -7.75,
          -7.5,
          -7.25,
          -7,
          -6.75,
          -6.5,
          -6.25,
          -6,
          -5.75,
          -5.5,
          -5.25,
          -5,
          -4.75,
          -4.5,
          -4.25,
          -4,
          -3.75,
          -3.5,
          -3.25,
          -3,
          -2.75,
          -2.5,
          -2.25,
          -2,
          -1.75,
          -1.5,
          -1.25,
          -1,
          -0.75,
          -0.5,
          -0.25,
          0,
          0.25,
          0.5,
          0.75,
          1,
          1.25,
          1.5,
          1.75,
          2,
          2.25,
          2.5,
          2.75,
          3,
          3.25,
          3.5,
          3.75,
          4,
          4.25,
          4.5,
          4.75,
          5,
          5.25,
          5.5,
          5.75,
          6,
          6.25,
          6.5,
          6.75,
          7,
          7.25,
          7.5,
          7.75,
          8,
          8.25,
          8.5,
          8.75,
          9,
          9.25,
          9.5,
          9.75
         ],
         "y": [
          -10,
          -9.75,
          -9.5,
          -9.25,
          -9,
          -8.75,
          -8.5,
          -8.25,
          -8,
          -7.75,
          -7.5,
          -7.25,
          -7,
          -6.75,
          -6.5,
          -6.25,
          -6,
          -5.75,
          -5.5,
          -5.25,
          -5,
          -4.75,
          -4.5,
          -4.25,
          -4,
          -3.75,
          -3.5,
          -3.25,
          -3,
          -2.75,
          -2.5,
          -2.25,
          -2,
          -1.75,
          -1.5,
          -1.25,
          -1,
          -0.75,
          -0.5,
          -0.25,
          0,
          0.25,
          0.5,
          0.75,
          1,
          1.25,
          1.5,
          1.75,
          2,
          2.25,
          2.5,
          2.75,
          3,
          3.25,
          3.5,
          3.75,
          4,
          4.25,
          4.5,
          4.75,
          5,
          5.25,
          5.5,
          5.75,
          6,
          6.25,
          6.5,
          6.75,
          7,
          7.25,
          7.5,
          7.75,
          8,
          8.25,
          8.5,
          8.75,
          9,
          9.25,
          9.5,
          9.75
         ],
         "z": [
          100,
          95.0625,
          90.25,
          85.5625,
          81,
          76.5625,
          72.25,
          68.0625,
          64,
          60.0625,
          56.25,
          52.5625,
          49,
          45.5625,
          42.25,
          39.0625,
          36,
          33.0625,
          30.25,
          27.5625,
          25,
          22.5625,
          20.25,
          18.0625,
          16,
          14.0625,
          12.25,
          10.5625,
          9,
          7.5625,
          6.25,
          5.0625,
          4,
          3.0625,
          2.25,
          1.5625,
          1,
          0.5625,
          0.25,
          0.0625,
          0,
          0.0625,
          0.25,
          0.5625,
          1,
          1.5625,
          2.25,
          3.0625,
          4,
          5.0625,
          6.25,
          7.5625,
          9,
          10.5625,
          12.25,
          14.0625,
          16,
          18.0625,
          20.25,
          22.5625,
          25,
          27.5625,
          30.25,
          33.0625,
          36,
          39.0625,
          42.25,
          45.5625,
          49,
          52.5625,
          56.25,
          60.0625,
          64,
          68.0625,
          72.25,
          76.5625,
          81,
          85.5625,
          90.25,
          95.0625
         ]
        }
       ],
       "layout": {
        "scene": {
         "xaxis": {
          "title": {
           "text": "X Axis"
          }
         },
         "yaxis": {
          "title": {
           "text": "Y Axis"
          }
         },
         "zaxis": {
          "title": {
           "text": "Z Axis"
          }
         }
        },
        "template": {
         "data": {
          "bar": [
           {
            "error_x": {
             "color": "#2a3f5f"
            },
            "error_y": {
             "color": "#2a3f5f"
            },
            "marker": {
             "line": {
              "color": "#E5ECF6",
              "width": 0.5
             },
             "pattern": {
              "fillmode": "overlay",
              "size": 10,
              "solidity": 0.2
             }
            },
            "type": "bar"
           }
          ],
          "barpolar": [
           {
            "marker": {
             "line": {
              "color": "#E5ECF6",
              "width": 0.5
             },
             "pattern": {
              "fillmode": "overlay",
              "size": 10,
              "solidity": 0.2
             }
            },
            "type": "barpolar"
           }
          ],
          "carpet": [
           {
            "aaxis": {
             "endlinecolor": "#2a3f5f",
             "gridcolor": "white",
             "linecolor": "white",
             "minorgridcolor": "white",
             "startlinecolor": "#2a3f5f"
            },
            "baxis": {
             "endlinecolor": "#2a3f5f",
             "gridcolor": "white",
             "linecolor": "white",
             "minorgridcolor": "white",
             "startlinecolor": "#2a3f5f"
            },
            "type": "carpet"
           }
          ],
          "choropleth": [
           {
            "colorbar": {
             "outlinewidth": 0,
             "ticks": ""
            },
            "type": "choropleth"
           }
          ],
          "contour": [
           {
            "colorbar": {
             "outlinewidth": 0,
             "ticks": ""
            },
            "colorscale": [
             [
              0,
              "#0d0887"
             ],
             [
              0.1111111111111111,
              "#46039f"
             ],
             [
              0.2222222222222222,
              "#7201a8"
             ],
             [
              0.3333333333333333,
              "#9c179e"
             ],
             [
              0.4444444444444444,
              "#bd3786"
             ],
             [
              0.5555555555555556,
              "#d8576b"
             ],
             [
              0.6666666666666666,
              "#ed7953"
             ],
             [
              0.7777777777777778,
              "#fb9f3a"
             ],
             [
              0.8888888888888888,
              "#fdca26"
             ],
             [
              1,
              "#f0f921"
             ]
            ],
            "type": "contour"
           }
          ],
          "contourcarpet": [
           {
            "colorbar": {
             "outlinewidth": 0,
             "ticks": ""
            },
            "type": "contourcarpet"
           }
          ],
          "heatmap": [
           {
            "colorbar": {
             "outlinewidth": 0,
             "ticks": ""
            },
            "colorscale": [
             [
              0,
              "#0d0887"
             ],
             [
              0.1111111111111111,
              "#46039f"
             ],
             [
              0.2222222222222222,
              "#7201a8"
             ],
             [
              0.3333333333333333,
              "#9c179e"
             ],
             [
              0.4444444444444444,
              "#bd3786"
             ],
             [
              0.5555555555555556,
              "#d8576b"
             ],
             [
              0.6666666666666666,
              "#ed7953"
             ],
             [
              0.7777777777777778,
              "#fb9f3a"
             ],
             [
              0.8888888888888888,
              "#fdca26"
             ],
             [
              1,
              "#f0f921"
             ]
            ],
            "type": "heatmap"
           }
          ],
          "heatmapgl": [
           {
            "colorbar": {
             "outlinewidth": 0,
             "ticks": ""
            },
            "colorscale": [
             [
              0,
              "#0d0887"
             ],
             [
              0.1111111111111111,
              "#46039f"
             ],
             [
              0.2222222222222222,
              "#7201a8"
             ],
             [
              0.3333333333333333,
              "#9c179e"
             ],
             [
              0.4444444444444444,
              "#bd3786"
             ],
             [
              0.5555555555555556,
              "#d8576b"
             ],
             [
              0.6666666666666666,
              "#ed7953"
             ],
             [
              0.7777777777777778,
              "#fb9f3a"
             ],
             [
              0.8888888888888888,
              "#fdca26"
             ],
             [
              1,
              "#f0f921"
             ]
            ],
            "type": "heatmapgl"
           }
          ],
          "histogram": [
           {
            "marker": {
             "pattern": {
              "fillmode": "overlay",
              "size": 10,
              "solidity": 0.2
             }
            },
            "type": "histogram"
           }
          ],
          "histogram2d": [
           {
            "colorbar": {
             "outlinewidth": 0,
             "ticks": ""
            },
            "colorscale": [
             [
              0,
              "#0d0887"
             ],
             [
              0.1111111111111111,
              "#46039f"
             ],
             [
              0.2222222222222222,
              "#7201a8"
             ],
             [
              0.3333333333333333,
              "#9c179e"
             ],
             [
              0.4444444444444444,
              "#bd3786"
             ],
             [
              0.5555555555555556,
              "#d8576b"
             ],
             [
              0.6666666666666666,
              "#ed7953"
             ],
             [
              0.7777777777777778,
              "#fb9f3a"
             ],
             [
              0.8888888888888888,
              "#fdca26"
             ],
             [
              1,
              "#f0f921"
             ]
            ],
            "type": "histogram2d"
           }
          ],
          "histogram2dcontour": [
           {
            "colorbar": {
             "outlinewidth": 0,
             "ticks": ""
            },
            "colorscale": [
             [
              0,
              "#0d0887"
             ],
             [
              0.1111111111111111,
              "#46039f"
             ],
             [
              0.2222222222222222,
              "#7201a8"
             ],
             [
              0.3333333333333333,
              "#9c179e"
             ],
             [
              0.4444444444444444,
              "#bd3786"
             ],
             [
              0.5555555555555556,
              "#d8576b"
             ],
             [
              0.6666666666666666,
              "#ed7953"
             ],
             [
              0.7777777777777778,
              "#fb9f3a"
             ],
             [
              0.8888888888888888,
              "#fdca26"
             ],
             [
              1,
              "#f0f921"
             ]
            ],
            "type": "histogram2dcontour"
           }
          ],
          "mesh3d": [
           {
            "colorbar": {
             "outlinewidth": 0,
             "ticks": ""
            },
            "type": "mesh3d"
           }
          ],
          "parcoords": [
           {
            "line": {
             "colorbar": {
              "outlinewidth": 0,
              "ticks": ""
             }
            },
            "type": "parcoords"
           }
          ],
          "pie": [
           {
            "automargin": true,
            "type": "pie"
           }
          ],
          "scatter": [
           {
            "fillpattern": {
             "fillmode": "overlay",
             "size": 10,
             "solidity": 0.2
            },
            "type": "scatter"
           }
          ],
          "scatter3d": [
           {
            "line": {
             "colorbar": {
              "outlinewidth": 0,
              "ticks": ""
             }
            },
            "marker": {
             "colorbar": {
              "outlinewidth": 0,
              "ticks": ""
             }
            },
            "type": "scatter3d"
           }
          ],
          "scattercarpet": [
           {
            "marker": {
             "colorbar": {
              "outlinewidth": 0,
              "ticks": ""
             }
            },
            "type": "scattercarpet"
           }
          ],
          "scattergeo": [
           {
            "marker": {
             "colorbar": {
              "outlinewidth": 0,
              "ticks": ""
             }
            },
            "type": "scattergeo"
           }
          ],
          "scattergl": [
           {
            "marker": {
             "colorbar": {
              "outlinewidth": 0,
              "ticks": ""
             }
            },
            "type": "scattergl"
           }
          ],
          "scattermapbox": [
           {
            "marker": {
             "colorbar": {
              "outlinewidth": 0,
              "ticks": ""
             }
            },
            "type": "scattermapbox"
           }
          ],
          "scatterpolar": [
           {
            "marker": {
             "colorbar": {
              "outlinewidth": 0,
              "ticks": ""
             }
            },
            "type": "scatterpolar"
           }
          ],
          "scatterpolargl": [
           {
            "marker": {
             "colorbar": {
              "outlinewidth": 0,
              "ticks": ""
             }
            },
            "type": "scatterpolargl"
           }
          ],
          "scatterternary": [
           {
            "marker": {
             "colorbar": {
              "outlinewidth": 0,
              "ticks": ""
             }
            },
            "type": "scatterternary"
           }
          ],
          "surface": [
           {
            "colorbar": {
             "outlinewidth": 0,
             "ticks": ""
            },
            "colorscale": [
             [
              0,
              "#0d0887"
             ],
             [
              0.1111111111111111,
              "#46039f"
             ],
             [
              0.2222222222222222,
              "#7201a8"
             ],
             [
              0.3333333333333333,
              "#9c179e"
             ],
             [
              0.4444444444444444,
              "#bd3786"
             ],
             [
              0.5555555555555556,
              "#d8576b"
             ],
             [
              0.6666666666666666,
              "#ed7953"
             ],
             [
              0.7777777777777778,
              "#fb9f3a"
             ],
             [
              0.8888888888888888,
              "#fdca26"
             ],
             [
              1,
              "#f0f921"
             ]
            ],
            "type": "surface"
           }
          ],
          "table": [
           {
            "cells": {
             "fill": {
              "color": "#EBF0F8"
             },
             "line": {
              "color": "white"
             }
            },
            "header": {
             "fill": {
              "color": "#C8D4E3"
             },
             "line": {
              "color": "white"
             }
            },
            "type": "table"
           }
          ]
         },
         "layout": {
          "annotationdefaults": {
           "arrowcolor": "#2a3f5f",
           "arrowhead": 0,
           "arrowwidth": 1
          },
          "autotypenumbers": "strict",
          "coloraxis": {
           "colorbar": {
            "outlinewidth": 0,
            "ticks": ""
           }
          },
          "colorscale": {
           "diverging": [
            [
             0,
             "#8e0152"
            ],
            [
             0.1,
             "#c51b7d"
            ],
            [
             0.2,
             "#de77ae"
            ],
            [
             0.3,
             "#f1b6da"
            ],
            [
             0.4,
             "#fde0ef"
            ],
            [
             0.5,
             "#f7f7f7"
            ],
            [
             0.6,
             "#e6f5d0"
            ],
            [
             0.7,
             "#b8e186"
            ],
            [
             0.8,
             "#7fbc41"
            ],
            [
             0.9,
             "#4d9221"
            ],
            [
             1,
             "#276419"
            ]
           ],
           "sequential": [
            [
             0,
             "#0d0887"
            ],
            [
             0.1111111111111111,
             "#46039f"
            ],
            [
             0.2222222222222222,
             "#7201a8"
            ],
            [
             0.3333333333333333,
             "#9c179e"
            ],
            [
             0.4444444444444444,
             "#bd3786"
            ],
            [
             0.5555555555555556,
             "#d8576b"
            ],
            [
             0.6666666666666666,
             "#ed7953"
            ],
            [
             0.7777777777777778,
             "#fb9f3a"
            ],
            [
             0.8888888888888888,
             "#fdca26"
            ],
            [
             1,
             "#f0f921"
            ]
           ],
           "sequentialminus": [
            [
             0,
             "#0d0887"
            ],
            [
             0.1111111111111111,
             "#46039f"
            ],
            [
             0.2222222222222222,
             "#7201a8"
            ],
            [
             0.3333333333333333,
             "#9c179e"
            ],
            [
             0.4444444444444444,
             "#bd3786"
            ],
            [
             0.5555555555555556,
             "#d8576b"
            ],
            [
             0.6666666666666666,
             "#ed7953"
            ],
            [
             0.7777777777777778,
             "#fb9f3a"
            ],
            [
             0.8888888888888888,
             "#fdca26"
            ],
            [
             1,
             "#f0f921"
            ]
           ]
          },
          "colorway": [
           "#636efa",
           "#EF553B",
           "#00cc96",
           "#ab63fa",
           "#FFA15A",
           "#19d3f3",
           "#FF6692",
           "#B6E880",
           "#FF97FF",
           "#FECB52"
          ],
          "font": {
           "color": "#2a3f5f"
          },
          "geo": {
           "bgcolor": "white",
           "lakecolor": "white",
           "landcolor": "#E5ECF6",
           "showlakes": true,
           "showland": true,
           "subunitcolor": "white"
          },
          "hoverlabel": {
           "align": "left"
          },
          "hovermode": "closest",
          "mapbox": {
           "style": "light"
          },
          "paper_bgcolor": "white",
          "plot_bgcolor": "#E5ECF6",
          "polar": {
           "angularaxis": {
            "gridcolor": "white",
            "linecolor": "white",
            "ticks": ""
           },
           "bgcolor": "#E5ECF6",
           "radialaxis": {
            "gridcolor": "white",
            "linecolor": "white",
            "ticks": ""
           }
          },
          "scene": {
           "xaxis": {
            "backgroundcolor": "#E5ECF6",
            "gridcolor": "white",
            "gridwidth": 2,
            "linecolor": "white",
            "showbackground": true,
            "ticks": "",
            "zerolinecolor": "white"
           },
           "yaxis": {
            "backgroundcolor": "#E5ECF6",
            "gridcolor": "white",
            "gridwidth": 2,
            "linecolor": "white",
            "showbackground": true,
            "ticks": "",
            "zerolinecolor": "white"
           },
           "zaxis": {
            "backgroundcolor": "#E5ECF6",
            "gridcolor": "white",
            "gridwidth": 2,
            "linecolor": "white",
            "showbackground": true,
            "ticks": "",
            "zerolinecolor": "white"
           }
          },
          "shapedefaults": {
           "line": {
            "color": "#2a3f5f"
           }
          },
          "ternary": {
           "aaxis": {
            "gridcolor": "white",
            "linecolor": "white",
            "ticks": ""
           },
           "baxis": {
            "gridcolor": "white",
            "linecolor": "white",
            "ticks": ""
           },
           "bgcolor": "#E5ECF6",
           "caxis": {
            "gridcolor": "white",
            "linecolor": "white",
            "ticks": ""
           }
          },
          "title": {
           "x": 0.05
          },
          "xaxis": {
           "automargin": true,
           "gridcolor": "white",
           "linecolor": "white",
           "ticks": "",
           "title": {
            "standoff": 15
           },
           "zerolinecolor": "white",
           "zerolinewidth": 2
          },
          "yaxis": {
           "automargin": true,
           "gridcolor": "white",
           "linecolor": "white",
           "ticks": "",
           "title": {
            "standoff": 15
           },
           "zerolinecolor": "white",
           "zerolinewidth": 2
          }
         }
        }
       }
      }
     },
     "metadata": {},
     "output_type": "display_data"
    }
   ],
   "source": [
    "# Let's get 3D\n",
    "def f(x, y):\n",
    "    return x * y\n",
    "\n",
    "x = np.arange(-10, 10, 0.25)\n",
    "y = np.arange(-10, 10, 0.25)\n",
    "z = f(x, y)\n",
    "\n",
    "fig = go.Figure(data=[go.Scatter3d(x=x, y=y, z=z, mode='markers')])\n",
    "\n",
    "fig.update_layout(scene = dict(\n",
    "                    xaxis_title='X Axis',\n",
    "                    yaxis_title='Y Axis',\n",
    "                    zaxis_title='Z Axis'))\n",
    "\n",
    "# Show the plot\n",
    "fig.show()"
   ]
  },
  {
   "cell_type": "markdown",
   "metadata": {},
   "source": [
    "z = f(x, y) = x * y\n",
    "\n",
    "Now, dz / dx = d(x * y) / dx = x * dy/dx + y * dx/dx \n",
    "\n",
    "or, dz / dx = x * 0 + y \n",
    "\n",
    "So, finally dz / dx = y \n",
    "\n",
    "\n",
    "So, derivative of this function(z) at x = 2 is,/\n",
    "(dz / dx)[x = 2] = y"
   ]
  },
  {
   "cell_type": "code",
   "execution_count": 59,
   "metadata": {},
   "outputs": [
    {
     "name": "stdout",
     "output_type": "stream",
     "text": [
      "Derivative of z w.r to x (2) while y = 5.00 is - 5.000089231543825\n"
     ]
    }
   ],
   "source": [
    "h = 0.00000000001\n",
    "\n",
    "x = 2.00\n",
    "y = 5.00 # Assume\n",
    "# Compute f(x, y)\n",
    "z_old = f(x, y)\n",
    "\n",
    "# Nudge x with h\n",
    "x += h\n",
    "y = 5.00\n",
    "\n",
    "z_new = f(x, y)\n",
    "print('Derivative of z w.r to x (2) while y = 5.00 is -', (z_new - z_old) / h)"
   ]
  },
  {
   "cell_type": "code",
   "execution_count": 61,
   "metadata": {},
   "outputs": [],
   "source": [
    "# Neural networks are massive expressions\n",
    "# So, we need a data structure\n",
    "class Value:\n",
    "    def __init__(self, data):\n",
    "        self.data = data\n",
    "\n",
    "    def __repr__(self):\n",
    "        # For nice prints when we do print(Value(data = x.0))\n",
    "        return f\"Value(data={self.data})\""
   ]
  },
  {
   "cell_type": "code",
   "execution_count": 65,
   "metadata": {},
   "outputs": [
    {
     "name": "stdout",
     "output_type": "stream",
     "text": [
      "Value(data=5.0)\n"
     ]
    }
   ],
   "source": [
    "a = Value(5.0)\n",
    "print(a)\n",
    "\n",
    "# Python internally calls\n",
    "# print(a.__repr__())"
   ]
  },
  {
   "cell_type": "code",
   "execution_count": 66,
   "metadata": {},
   "outputs": [
    {
     "ename": "TypeError",
     "evalue": "unsupported operand type(s) for +: 'Value' and 'Value'",
     "output_type": "error",
     "traceback": [
      "\u001b[0;31m---------------------------------------------------------------------------\u001b[0m",
      "\u001b[0;31mTypeError\u001b[0m                                 Traceback (most recent call last)",
      "Cell \u001b[0;32mIn[66], line 4\u001b[0m\n\u001b[1;32m      1\u001b[0m a \u001b[38;5;241m=\u001b[39m Value(\u001b[38;5;241m5.0\u001b[39m)\n\u001b[1;32m      2\u001b[0m b \u001b[38;5;241m=\u001b[39m Value(\u001b[38;5;241m2.0\u001b[39m)\n\u001b[0;32m----> 4\u001b[0m out \u001b[38;5;241m=\u001b[39m \u001b[43ma\u001b[49m\u001b[43m \u001b[49m\u001b[38;5;241;43m+\u001b[39;49m\u001b[43m \u001b[49m\u001b[43mb\u001b[49m\n",
      "\u001b[0;31mTypeError\u001b[0m: unsupported operand type(s) for +: 'Value' and 'Value'"
     ]
    }
   ],
   "source": [
    "a = Value(5.0)\n",
    "b = Value(2.0)\n",
    "\n",
    "# Error because python does not know how to add 2 value objects\n",
    "out = a + b"
   ]
  },
  {
   "cell_type": "code",
   "execution_count": 67,
   "metadata": {},
   "outputs": [],
   "source": [
    "# Update the Value object\n",
    "class Value:\n",
    "    def __init__(self, data):\n",
    "        self.data = data\n",
    "\n",
    "    def __repr__(self):\n",
    "        return f\"Value(data={self.data})\"\n",
    "\n",
    "    def __add__(self, other):\n",
    "        return self.data + other.data\n",
    "\n",
    "    def __mul__(self, other):\n",
    "        return self.data * other.data"
   ]
  },
  {
   "cell_type": "code",
   "execution_count": 69,
   "metadata": {},
   "outputs": [
    {
     "name": "stdout",
     "output_type": "stream",
     "text": [
      "7.0\n"
     ]
    }
   ],
   "source": [
    "a = Value(5.0)\n",
    "b = Value(2.0)\n",
    "\n",
    "out = a + b\n",
    "print(out)"
   ]
  },
  {
   "cell_type": "code",
   "execution_count": 72,
   "metadata": {},
   "outputs": [],
   "source": [
    "# We also want to know what values produce other values\n",
    "# We need to have pointers to the children nodes of a certain value\n",
    "# Update the Value object\n",
    "class Value:\n",
    "    def __init__(self, data, _children=()):\n",
    "        self.data = data\n",
    "        self._prev = set(_children)\n",
    "\n",
    "    def __repr__(self):\n",
    "        return f\"Value(data={self.data})\"\n",
    "\n",
    "    def __add__(self, other):\n",
    "        return Value(data=self.data + other.data, _children=(self, other))\n",
    "\n",
    "    def __mul__(self, other):\n",
    "        return Value(data=self.data * other.data, _children=(self, other))"
   ]
  },
  {
   "cell_type": "code",
   "execution_count": 81,
   "metadata": {},
   "outputs": [
    {
     "name": "stdout",
     "output_type": "stream",
     "text": [
      "a * b:  Value(data=6.0)\n",
      "Childrens of ab: {Value(data=2.0), Value(data=3.0)}\n",
      "\n",
      "Value(data=11.0)\n",
      "{Value(data=5.0), Value(data=6.0)}\n"
     ]
    }
   ],
   "source": [
    "a = Value(3.0)\n",
    "b = Value(2.0)\n",
    "c = Value(5.0)\n",
    "\n",
    "ab = a * b\n",
    "print(\"a * b: \", ab)\n",
    "print(\"Childrens of ab:\", ab._prev)\n",
    "\n",
    "print()\n",
    "\n",
    "out = ab + c\n",
    "print(out)\n",
    "# Out was created by\n",
    "print(out._prev)"
   ]
  },
  {
   "cell_type": "code",
   "execution_count": 110,
   "metadata": {},
   "outputs": [],
   "source": [
    "# Now we would like to know what operation created those nodes\n",
    "# We need to keep track of ops to flow backward\n",
    "class Value:\n",
    "    def __init__(self, data, _children=(), _op=\"\", label = ''):\n",
    "        self.data = data\n",
    "        self.grad = 0.0\n",
    "        self._prev = set(_children)\n",
    "        self._op = _op\n",
    "        self.label = label\n",
    "\n",
    "    def __repr__(self):\n",
    "        return f\"Value(data={self.data})\"\n",
    "\n",
    "    def __add__(self, other):\n",
    "        return Value(data=self.data + other.data, _children=(self, other), _op=\"+\")\n",
    "\n",
    "    def __mul__(self, other):\n",
    "        return Value(data=self.data * other.data, _children=(self, other), _op=\"*\")"
   ]
  },
  {
   "cell_type": "code",
   "execution_count": 111,
   "metadata": {},
   "outputs": [
    {
     "name": "stdout",
     "output_type": "stream",
     "text": [
      "a * b:  Value(data=6.0)\n",
      "Childrens of ab: {Value(data=3.0), Value(data=2.0)}\n",
      "Op of ab: *\n",
      "\n",
      "Value(data=11.0)\n",
      "{Value(data=5.0), Value(data=6.0)}\n",
      "+\n"
     ]
    }
   ],
   "source": [
    "a = Value(3.0, label = 'a')\n",
    "b = Value(2.0, label = 'b')\n",
    "c = Value(5.0, label = 'c')\n",
    "\n",
    "ab = a * b\n",
    "print(\"a * b: \", ab)\n",
    "ab.label = 'a * b'\n",
    "print(\"Childrens of ab:\", ab._prev)\n",
    "print(\"Op of ab:\", ab._op)\n",
    "\n",
    "print()\n",
    "\n",
    "out = ab + c\n",
    "print(out)\n",
    "out.label = 'out'\n",
    "# Out was created by\n",
    "print(out._prev)\n",
    "print(out._op)"
   ]
  },
  {
   "cell_type": "code",
   "execution_count": 112,
   "metadata": {},
   "outputs": [],
   "source": [
    "# I do not understand this\n",
    "# TODO: Understand this\n",
    "from graphviz import Digraph\n",
    "\n",
    "\n",
    "def trace(root):\n",
    "    # builds a set of all nodes and edges in a graph\n",
    "    nodes, edges = set(), set()\n",
    "\n",
    "    def build(v):\n",
    "        if v not in nodes:\n",
    "            nodes.add(v)\n",
    "            for child in v._prev:\n",
    "                edges.add((child, v))\n",
    "                build(child)\n",
    "\n",
    "    build(root)\n",
    "    return nodes, edges\n",
    "\n",
    "\n",
    "def draw_dot(root):\n",
    "    dot = Digraph(format=\"svg\", graph_attr={\"rankdir\": \"LR\"})  # LR = left to right\n",
    "\n",
    "    nodes, edges = trace(root)\n",
    "    for n in nodes:\n",
    "        uid = str(id(n))\n",
    "        # for any value in the graph, create a rectangular ('record') node for it\n",
    "        dot.node(\n",
    "            name=uid,\n",
    "            label=\"{ %s | data %.4f | grad  %.4f} \" % (n.label, n.data, n.grad),\n",
    "            shape=\"record\",\n",
    "        )\n",
    "        if n._op:\n",
    "            # if this value is a result of some operation, create an op node for it\n",
    "            dot.node(name=uid + n._op, label=n._op)\n",
    "            # and connect this node to it\n",
    "            dot.edge(uid + n._op, uid)\n",
    "\n",
    "    for n1, n2 in edges:\n",
    "        # connect n1 to the op node of n2\n",
    "        dot.edge(str(id(n1)), str(id(n2)) + n2._op)\n",
    "\n",
    "    return dot"
   ]
  },
  {
   "cell_type": "code",
   "execution_count": 113,
   "metadata": {},
   "outputs": [
    {
     "data": {
      "image/svg+xml": [
       "<?xml version=\"1.0\" encoding=\"UTF-8\" standalone=\"no\"?>\n",
       "<!DOCTYPE svg PUBLIC \"-//W3C//DTD SVG 1.1//EN\"\n",
       " \"http://www.w3.org/Graphics/SVG/1.1/DTD/svg11.dtd\">\n",
       "<!-- Generated by graphviz version 12.0.0 (20240704.0754)\n",
       " -->\n",
       "<!-- Pages: 1 -->\n",
       "<svg width=\"849pt\" height=\"127pt\"\n",
       " viewBox=\"0.00 0.00 848.75 127.00\" xmlns=\"http://www.w3.org/2000/svg\" xmlns:xlink=\"http://www.w3.org/1999/xlink\">\n",
       "<g id=\"graph0\" class=\"graph\" transform=\"scale(1 1) rotate(0) translate(4 123)\">\n",
       "<polygon fill=\"white\" stroke=\"none\" points=\"-4,4 -4,-123 844.75,-123 844.75,4 -4,4\"/>\n",
       "<!-- 6047049424 -->\n",
       "<g id=\"node1\" class=\"node\">\n",
       "<title>6047049424</title>\n",
       "<polygon fill=\"none\" stroke=\"black\" points=\"320.25,-82.5 320.25,-118.5 503.25,-118.5 503.25,-82.5 320.25,-82.5\"/>\n",
       "<text text-anchor=\"middle\" x=\"331.25\" y=\"-95.7\" font-family=\"Times,serif\" font-size=\"14.00\">c</text>\n",
       "<polyline fill=\"none\" stroke=\"black\" points=\"342.25,-83 342.25,-118.5\"/>\n",
       "<text text-anchor=\"middle\" x=\"382.12\" y=\"-95.7\" font-family=\"Times,serif\" font-size=\"14.00\">data 5.0000</text>\n",
       "<polyline fill=\"none\" stroke=\"black\" points=\"422,-83 422,-118.5\"/>\n",
       "<text text-anchor=\"middle\" x=\"462.62\" y=\"-95.7\" font-family=\"Times,serif\" font-size=\"14.00\">grad 0.0000</text>\n",
       "</g>\n",
       "<!-- 5761960144+ -->\n",
       "<g id=\"node3\" class=\"node\">\n",
       "<title>5761960144+</title>\n",
       "<ellipse fill=\"none\" stroke=\"black\" cx=\"576.75\" cy=\"-72.5\" rx=\"27\" ry=\"18\"/>\n",
       "<text text-anchor=\"middle\" x=\"576.75\" y=\"-67.45\" font-family=\"Times,serif\" font-size=\"14.00\">+</text>\n",
       "</g>\n",
       "<!-- 6047049424&#45;&gt;5761960144+ -->\n",
       "<g id=\"edge6\" class=\"edge\">\n",
       "<title>6047049424&#45;&gt;5761960144+</title>\n",
       "<path fill=\"none\" stroke=\"black\" d=\"M503.31,-84.94C516.01,-82.76 528.41,-80.63 539.26,-78.77\"/>\n",
       "<polygon fill=\"black\" stroke=\"black\" points=\"539.61,-82.26 548.88,-77.12 538.43,-75.36 539.61,-82.26\"/>\n",
       "</g>\n",
       "<!-- 5761960144 -->\n",
       "<g id=\"node2\" class=\"node\">\n",
       "<title>5761960144</title>\n",
       "<polygon fill=\"none\" stroke=\"black\" points=\"639.75,-54.5 639.75,-90.5 840.75,-90.5 840.75,-54.5 639.75,-54.5\"/>\n",
       "<text text-anchor=\"middle\" x=\"656.38\" y=\"-67.7\" font-family=\"Times,serif\" font-size=\"14.00\">out</text>\n",
       "<polyline fill=\"none\" stroke=\"black\" points=\"673,-55 673,-90.5\"/>\n",
       "<text text-anchor=\"middle\" x=\"716.25\" y=\"-67.7\" font-family=\"Times,serif\" font-size=\"14.00\">data 11.0000</text>\n",
       "<polyline fill=\"none\" stroke=\"black\" points=\"759.5,-55 759.5,-90.5\"/>\n",
       "<text text-anchor=\"middle\" x=\"800.12\" y=\"-67.7\" font-family=\"Times,serif\" font-size=\"14.00\">grad 0.0000</text>\n",
       "</g>\n",
       "<!-- 5761960144+&#45;&gt;5761960144 -->\n",
       "<g id=\"edge1\" class=\"edge\">\n",
       "<title>5761960144+&#45;&gt;5761960144</title>\n",
       "<path fill=\"none\" stroke=\"black\" d=\"M604.06,-72.5C611.16,-72.5 619.31,-72.5 628.02,-72.5\"/>\n",
       "<polygon fill=\"black\" stroke=\"black\" points=\"627.79,-76 637.79,-72.5 627.79,-69 627.79,-76\"/>\n",
       "</g>\n",
       "<!-- 4961898768 -->\n",
       "<g id=\"node4\" class=\"node\">\n",
       "<title>4961898768</title>\n",
       "<polygon fill=\"none\" stroke=\"black\" points=\"0.38,-55.5 0.38,-91.5 183.38,-91.5 183.38,-55.5 0.38,-55.5\"/>\n",
       "<text text-anchor=\"middle\" x=\"11.38\" y=\"-68.7\" font-family=\"Times,serif\" font-size=\"14.00\">a</text>\n",
       "<polyline fill=\"none\" stroke=\"black\" points=\"22.38,-56 22.38,-91.5\"/>\n",
       "<text text-anchor=\"middle\" x=\"62.25\" y=\"-68.7\" font-family=\"Times,serif\" font-size=\"14.00\">data 3.0000</text>\n",
       "<polyline fill=\"none\" stroke=\"black\" points=\"102.12,-56 102.12,-91.5\"/>\n",
       "<text text-anchor=\"middle\" x=\"142.75\" y=\"-68.7\" font-family=\"Times,serif\" font-size=\"14.00\">grad 0.0000</text>\n",
       "</g>\n",
       "<!-- 6047047120* -->\n",
       "<g id=\"node7\" class=\"node\">\n",
       "<title>6047047120*</title>\n",
       "<ellipse fill=\"none\" stroke=\"black\" cx=\"246.75\" cy=\"-45.5\" rx=\"27\" ry=\"18\"/>\n",
       "<text text-anchor=\"middle\" x=\"246.75\" y=\"-40.45\" font-family=\"Times,serif\" font-size=\"14.00\">*</text>\n",
       "</g>\n",
       "<!-- 4961898768&#45;&gt;6047047120* -->\n",
       "<g id=\"edge4\" class=\"edge\">\n",
       "<title>4961898768&#45;&gt;6047047120*</title>\n",
       "<path fill=\"none\" stroke=\"black\" d=\"M183.57,-56.89C192.45,-55.26 201.07,-53.68 208.91,-52.25\"/>\n",
       "<polygon fill=\"black\" stroke=\"black\" points=\"209.47,-55.7 218.67,-50.46 208.21,-48.82 209.47,-55.7\"/>\n",
       "</g>\n",
       "<!-- 5725446992 -->\n",
       "<g id=\"node5\" class=\"node\">\n",
       "<title>5725446992</title>\n",
       "<polygon fill=\"none\" stroke=\"black\" points=\"0,-0.5 0,-36.5 183.75,-36.5 183.75,-0.5 0,-0.5\"/>\n",
       "<text text-anchor=\"middle\" x=\"11.38\" y=\"-13.7\" font-family=\"Times,serif\" font-size=\"14.00\">b</text>\n",
       "<polyline fill=\"none\" stroke=\"black\" points=\"22.75,-1 22.75,-36.5\"/>\n",
       "<text text-anchor=\"middle\" x=\"62.62\" y=\"-13.7\" font-family=\"Times,serif\" font-size=\"14.00\">data 2.0000</text>\n",
       "<polyline fill=\"none\" stroke=\"black\" points=\"102.5,-1 102.5,-36.5\"/>\n",
       "<text text-anchor=\"middle\" x=\"143.12\" y=\"-13.7\" font-family=\"Times,serif\" font-size=\"14.00\">grad 0.0000</text>\n",
       "</g>\n",
       "<!-- 5725446992&#45;&gt;6047047120* -->\n",
       "<g id=\"edge3\" class=\"edge\">\n",
       "<title>5725446992&#45;&gt;6047047120*</title>\n",
       "<path fill=\"none\" stroke=\"black\" d=\"M184.01,-34.6C192.84,-36.16 201.4,-37.67 209.19,-39.04\"/>\n",
       "<polygon fill=\"black\" stroke=\"black\" points=\"208.42,-42.46 218.88,-40.75 209.64,-35.57 208.42,-42.46\"/>\n",
       "</g>\n",
       "<!-- 6047047120 -->\n",
       "<g id=\"node6\" class=\"node\">\n",
       "<title>6047047120</title>\n",
       "<polygon fill=\"none\" stroke=\"black\" points=\"309.75,-27.5 309.75,-63.5 513.75,-63.5 513.75,-27.5 309.75,-27.5\"/>\n",
       "<text text-anchor=\"middle\" x=\"331.25\" y=\"-40.7\" font-family=\"Times,serif\" font-size=\"14.00\">a * b</text>\n",
       "<polyline fill=\"none\" stroke=\"black\" points=\"352.75,-28 352.75,-63.5\"/>\n",
       "<text text-anchor=\"middle\" x=\"392.62\" y=\"-40.7\" font-family=\"Times,serif\" font-size=\"14.00\">data 6.0000</text>\n",
       "<polyline fill=\"none\" stroke=\"black\" points=\"432.5,-28 432.5,-63.5\"/>\n",
       "<text text-anchor=\"middle\" x=\"473.12\" y=\"-40.7\" font-family=\"Times,serif\" font-size=\"14.00\">grad 0.0000</text>\n",
       "</g>\n",
       "<!-- 6047047120&#45;&gt;5761960144+ -->\n",
       "<g id=\"edge5\" class=\"edge\">\n",
       "<title>6047047120&#45;&gt;5761960144+</title>\n",
       "<path fill=\"none\" stroke=\"black\" d=\"M514.13,-62.29C522.79,-63.73 531.14,-65.11 538.74,-66.37\"/>\n",
       "<polygon fill=\"black\" stroke=\"black\" points=\"538.09,-69.81 548.52,-67.99 539.23,-62.9 538.09,-69.81\"/>\n",
       "</g>\n",
       "<!-- 6047047120*&#45;&gt;6047047120 -->\n",
       "<g id=\"edge2\" class=\"edge\">\n",
       "<title>6047047120*&#45;&gt;6047047120</title>\n",
       "<path fill=\"none\" stroke=\"black\" d=\"M273.94,-45.5C281.09,-45.5 289.31,-45.5 298.11,-45.5\"/>\n",
       "<polygon fill=\"black\" stroke=\"black\" points=\"298,-49 308,-45.5 298,-42 298,-49\"/>\n",
       "</g>\n",
       "</g>\n",
       "</svg>\n"
      ],
      "text/plain": [
       "<graphviz.graphs.Digraph at 0x15515e910>"
      ]
     },
     "execution_count": 113,
     "metadata": {},
     "output_type": "execute_result"
    }
   ],
   "source": [
    "draw_dot(out)"
   ]
  },
  {
   "cell_type": "code",
   "execution_count": 114,
   "metadata": {},
   "outputs": [
    {
     "name": "stdout",
     "output_type": "stream",
     "text": [
      "Value(data=-8.0)\n"
     ]
    }
   ],
   "source": [
    "# Let's get more complex\n",
    "a = Value(2.0, label=\"a\")\n",
    "b = Value(-3.0, label=\"b\")\n",
    "c = Value(10.0, label=\"c\")\n",
    "e = a * b\n",
    "e.label = \"e\"\n",
    "d = e + c\n",
    "d.label = \"d\"\n",
    "f = Value(-2.0, label=\"f\")\n",
    "L = d * f\n",
    "L.label = \"L\"\n",
    "\n",
    "print(L)"
   ]
  },
  {
   "cell_type": "code",
   "execution_count": 115,
   "metadata": {},
   "outputs": [
    {
     "data": {
      "image/svg+xml": [
       "<?xml version=\"1.0\" encoding=\"UTF-8\" standalone=\"no\"?>\n",
       "<!DOCTYPE svg PUBLIC \"-//W3C//DTD SVG 1.1//EN\"\n",
       " \"http://www.w3.org/Graphics/SVG/1.1/DTD/svg11.dtd\">\n",
       "<!-- Generated by graphviz version 12.0.0 (20240704.0754)\n",
       " -->\n",
       "<!-- Pages: 1 -->\n",
       "<svg width=\"1140pt\" height=\"156pt\"\n",
       " viewBox=\"0.00 0.00 1139.75 156.00\" xmlns=\"http://www.w3.org/2000/svg\" xmlns:xlink=\"http://www.w3.org/1999/xlink\">\n",
       "<g id=\"graph0\" class=\"graph\" transform=\"scale(1 1) rotate(0) translate(4 152)\">\n",
       "<polygon fill=\"white\" stroke=\"none\" points=\"-4,4 -4,-152 1135.75,-152 1135.75,4 -4,4\"/>\n",
       "<!-- 4961902160 -->\n",
       "<g id=\"node1\" class=\"node\">\n",
       "<title>4961902160</title>\n",
       "<polygon fill=\"none\" stroke=\"black\" points=\"0,-111.5 0,-147.5 188.25,-147.5 188.25,-111.5 0,-111.5\"/>\n",
       "<text text-anchor=\"middle\" x=\"11.38\" y=\"-124.7\" font-family=\"Times,serif\" font-size=\"14.00\">b</text>\n",
       "<polyline fill=\"none\" stroke=\"black\" points=\"22.75,-112 22.75,-147.5\"/>\n",
       "<text text-anchor=\"middle\" x=\"64.88\" y=\"-124.7\" font-family=\"Times,serif\" font-size=\"14.00\">data &#45;3.0000</text>\n",
       "<polyline fill=\"none\" stroke=\"black\" points=\"107,-112 107,-147.5\"/>\n",
       "<text text-anchor=\"middle\" x=\"147.62\" y=\"-124.7\" font-family=\"Times,serif\" font-size=\"14.00\">grad 0.0000</text>\n",
       "</g>\n",
       "<!-- 5725479120* -->\n",
       "<g id=\"node6\" class=\"node\">\n",
       "<title>5725479120*</title>\n",
       "<ellipse fill=\"none\" stroke=\"black\" cx=\"251.25\" cy=\"-101.5\" rx=\"27\" ry=\"18\"/>\n",
       "<text text-anchor=\"middle\" x=\"251.25\" y=\"-96.45\" font-family=\"Times,serif\" font-size=\"14.00\">*</text>\n",
       "</g>\n",
       "<!-- 4961902160&#45;&gt;5725479120* -->\n",
       "<g id=\"edge6\" class=\"edge\">\n",
       "<title>4961902160&#45;&gt;5725479120*</title>\n",
       "<path fill=\"none\" stroke=\"black\" d=\"M188.49,-112.65C197.36,-111.05 205.93,-109.5 213.73,-108.09\"/>\n",
       "<polygon fill=\"black\" stroke=\"black\" points=\"214.2,-111.56 223.42,-106.34 212.95,-104.68 214.2,-111.56\"/>\n",
       "</g>\n",
       "<!-- 5761298000 -->\n",
       "<g id=\"node2\" class=\"node\">\n",
       "<title>5761298000</title>\n",
       "<polygon fill=\"none\" stroke=\"black\" points=\"942,-27.5 942,-63.5 1131.75,-63.5 1131.75,-27.5 942,-27.5\"/>\n",
       "<text text-anchor=\"middle\" x=\"954.12\" y=\"-40.7\" font-family=\"Times,serif\" font-size=\"14.00\">L</text>\n",
       "<polyline fill=\"none\" stroke=\"black\" points=\"966.25,-28 966.25,-63.5\"/>\n",
       "<text text-anchor=\"middle\" x=\"1008.38\" y=\"-40.7\" font-family=\"Times,serif\" font-size=\"14.00\">data &#45;8.0000</text>\n",
       "<polyline fill=\"none\" stroke=\"black\" points=\"1050.5,-28 1050.5,-63.5\"/>\n",
       "<text text-anchor=\"middle\" x=\"1091.12\" y=\"-40.7\" font-family=\"Times,serif\" font-size=\"14.00\">grad 0.0000</text>\n",
       "</g>\n",
       "<!-- 5761298000* -->\n",
       "<g id=\"node3\" class=\"node\">\n",
       "<title>5761298000*</title>\n",
       "<ellipse fill=\"none\" stroke=\"black\" cx=\"879\" cy=\"-45.5\" rx=\"27\" ry=\"18\"/>\n",
       "<text text-anchor=\"middle\" x=\"879\" y=\"-40.45\" font-family=\"Times,serif\" font-size=\"14.00\">*</text>\n",
       "</g>\n",
       "<!-- 5761298000*&#45;&gt;5761298000 -->\n",
       "<g id=\"edge1\" class=\"edge\">\n",
       "<title>5761298000*&#45;&gt;5761298000</title>\n",
       "<path fill=\"none\" stroke=\"black\" d=\"M906.44,-45.5C913.59,-45.5 921.78,-45.5 930.49,-45.5\"/>\n",
       "<polygon fill=\"black\" stroke=\"black\" points=\"930.26,-49 940.26,-45.5 930.26,-42 930.26,-49\"/>\n",
       "</g>\n",
       "<!-- 4961896080 -->\n",
       "<g id=\"node4\" class=\"node\">\n",
       "<title>4961896080</title>\n",
       "<polygon fill=\"none\" stroke=\"black\" points=\"314.25,-28.5 314.25,-64.5 504,-64.5 504,-28.5 314.25,-28.5\"/>\n",
       "<text text-anchor=\"middle\" x=\"325.25\" y=\"-41.7\" font-family=\"Times,serif\" font-size=\"14.00\">c</text>\n",
       "<polyline fill=\"none\" stroke=\"black\" points=\"336.25,-29 336.25,-64.5\"/>\n",
       "<text text-anchor=\"middle\" x=\"379.5\" y=\"-41.7\" font-family=\"Times,serif\" font-size=\"14.00\">data 10.0000</text>\n",
       "<polyline fill=\"none\" stroke=\"black\" points=\"422.75,-29 422.75,-64.5\"/>\n",
       "<text text-anchor=\"middle\" x=\"463.38\" y=\"-41.7\" font-family=\"Times,serif\" font-size=\"14.00\">grad 0.0000</text>\n",
       "</g>\n",
       "<!-- 4961903376+ -->\n",
       "<g id=\"node9\" class=\"node\">\n",
       "<title>4961903376+</title>\n",
       "<ellipse fill=\"none\" stroke=\"black\" cx=\"567\" cy=\"-73.5\" rx=\"27\" ry=\"18\"/>\n",
       "<text text-anchor=\"middle\" x=\"567\" y=\"-68.45\" font-family=\"Times,serif\" font-size=\"14.00\">+</text>\n",
       "</g>\n",
       "<!-- 4961896080&#45;&gt;4961903376+ -->\n",
       "<g id=\"edge4\" class=\"edge\">\n",
       "<title>4961896080&#45;&gt;4961903376+</title>\n",
       "<path fill=\"none\" stroke=\"black\" d=\"M504.39,-62.83C513.16,-64.35 521.65,-65.82 529.37,-67.15\"/>\n",
       "<polygon fill=\"black\" stroke=\"black\" points=\"528.5,-70.56 538.95,-68.81 529.69,-63.66 528.5,-70.56\"/>\n",
       "</g>\n",
       "<!-- 5725479120 -->\n",
       "<g id=\"node5\" class=\"node\">\n",
       "<title>5725479120</title>\n",
       "<polygon fill=\"none\" stroke=\"black\" points=\"315.38,-83.5 315.38,-119.5 502.88,-119.5 502.88,-83.5 315.38,-83.5\"/>\n",
       "<text text-anchor=\"middle\" x=\"326.38\" y=\"-96.7\" font-family=\"Times,serif\" font-size=\"14.00\">e</text>\n",
       "<polyline fill=\"none\" stroke=\"black\" points=\"337.38,-84 337.38,-119.5\"/>\n",
       "<text text-anchor=\"middle\" x=\"379.5\" y=\"-96.7\" font-family=\"Times,serif\" font-size=\"14.00\">data &#45;6.0000</text>\n",
       "<polyline fill=\"none\" stroke=\"black\" points=\"421.62,-84 421.62,-119.5\"/>\n",
       "<text text-anchor=\"middle\" x=\"462.25\" y=\"-96.7\" font-family=\"Times,serif\" font-size=\"14.00\">grad 0.0000</text>\n",
       "</g>\n",
       "<!-- 5725479120&#45;&gt;4961903376+ -->\n",
       "<g id=\"edge7\" class=\"edge\">\n",
       "<title>5725479120&#45;&gt;4961903376+</title>\n",
       "<path fill=\"none\" stroke=\"black\" d=\"M503.05,-84.81C512.25,-83.16 521.16,-81.56 529.24,-80.1\"/>\n",
       "<polygon fill=\"black\" stroke=\"black\" points=\"529.71,-83.58 538.93,-78.36 528.47,-76.69 529.71,-83.58\"/>\n",
       "</g>\n",
       "<!-- 5725479120*&#45;&gt;5725479120 -->\n",
       "<g id=\"edge2\" class=\"edge\">\n",
       "<title>5725479120*&#45;&gt;5725479120</title>\n",
       "<path fill=\"none\" stroke=\"black\" d=\"M278.69,-101.5C286.1,-101.5 294.64,-101.5 303.71,-101.5\"/>\n",
       "<polygon fill=\"black\" stroke=\"black\" points=\"303.51,-105 313.51,-101.5 303.51,-98 303.51,-105\"/>\n",
       "</g>\n",
       "<!-- 4961906896 -->\n",
       "<g id=\"node7\" class=\"node\">\n",
       "<title>4961906896</title>\n",
       "<polygon fill=\"none\" stroke=\"black\" points=\"2.62,-56.5 2.62,-92.5 185.62,-92.5 185.62,-56.5 2.62,-56.5\"/>\n",
       "<text text-anchor=\"middle\" x=\"13.62\" y=\"-69.7\" font-family=\"Times,serif\" font-size=\"14.00\">a</text>\n",
       "<polyline fill=\"none\" stroke=\"black\" points=\"24.62,-57 24.62,-92.5\"/>\n",
       "<text text-anchor=\"middle\" x=\"64.5\" y=\"-69.7\" font-family=\"Times,serif\" font-size=\"14.00\">data 2.0000</text>\n",
       "<polyline fill=\"none\" stroke=\"black\" points=\"104.38,-57 104.38,-92.5\"/>\n",
       "<text text-anchor=\"middle\" x=\"145\" y=\"-69.7\" font-family=\"Times,serif\" font-size=\"14.00\">grad 0.0000</text>\n",
       "</g>\n",
       "<!-- 4961906896&#45;&gt;5725479120* -->\n",
       "<g id=\"edge5\" class=\"edge\">\n",
       "<title>4961906896&#45;&gt;5725479120*</title>\n",
       "<path fill=\"none\" stroke=\"black\" d=\"M185.81,-90.28C195.45,-91.96 204.82,-93.59 213.29,-95.07\"/>\n",
       "<polygon fill=\"black\" stroke=\"black\" points=\"212.65,-98.51 223.1,-96.77 213.85,-91.61 212.65,-98.51\"/>\n",
       "</g>\n",
       "<!-- 4961903376 -->\n",
       "<g id=\"node8\" class=\"node\">\n",
       "<title>4961903376</title>\n",
       "<polygon fill=\"none\" stroke=\"black\" points=\"631.12,-55.5 631.12,-91.5 814.88,-91.5 814.88,-55.5 631.12,-55.5\"/>\n",
       "<text text-anchor=\"middle\" x=\"642.5\" y=\"-68.7\" font-family=\"Times,serif\" font-size=\"14.00\">d</text>\n",
       "<polyline fill=\"none\" stroke=\"black\" points=\"653.88,-56 653.88,-91.5\"/>\n",
       "<text text-anchor=\"middle\" x=\"693.75\" y=\"-68.7\" font-family=\"Times,serif\" font-size=\"14.00\">data 4.0000</text>\n",
       "<polyline fill=\"none\" stroke=\"black\" points=\"733.62,-56 733.62,-91.5\"/>\n",
       "<text text-anchor=\"middle\" x=\"774.25\" y=\"-68.7\" font-family=\"Times,serif\" font-size=\"14.00\">grad 0.0000</text>\n",
       "</g>\n",
       "<!-- 4961903376&#45;&gt;5761298000* -->\n",
       "<g id=\"edge9\" class=\"edge\">\n",
       "<title>4961903376&#45;&gt;5761298000*</title>\n",
       "<path fill=\"none\" stroke=\"black\" d=\"M815.36,-56.89C824.5,-55.23 833.36,-53.62 841.4,-52.15\"/>\n",
       "<polygon fill=\"black\" stroke=\"black\" points=\"841.83,-55.63 851.04,-50.4 840.57,-48.75 841.83,-55.63\"/>\n",
       "</g>\n",
       "<!-- 4961903376+&#45;&gt;4961903376 -->\n",
       "<g id=\"edge3\" class=\"edge\">\n",
       "<title>4961903376+&#45;&gt;4961903376</title>\n",
       "<path fill=\"none\" stroke=\"black\" d=\"M594.47,-73.5C601.87,-73.5 610.38,-73.5 619.43,-73.5\"/>\n",
       "<polygon fill=\"black\" stroke=\"black\" points=\"619.17,-77 629.17,-73.5 619.17,-70 619.17,-77\"/>\n",
       "</g>\n",
       "<!-- 4961901840 -->\n",
       "<g id=\"node10\" class=\"node\">\n",
       "<title>4961901840</title>\n",
       "<polygon fill=\"none\" stroke=\"black\" points=\"630,-0.5 630,-36.5 816,-36.5 816,-0.5 630,-0.5\"/>\n",
       "<text text-anchor=\"middle\" x=\"640.25\" y=\"-13.7\" font-family=\"Times,serif\" font-size=\"14.00\">f</text>\n",
       "<polyline fill=\"none\" stroke=\"black\" points=\"650.5,-1 650.5,-36.5\"/>\n",
       "<text text-anchor=\"middle\" x=\"692.62\" y=\"-13.7\" font-family=\"Times,serif\" font-size=\"14.00\">data &#45;2.0000</text>\n",
       "<polyline fill=\"none\" stroke=\"black\" points=\"734.75,-1 734.75,-36.5\"/>\n",
       "<text text-anchor=\"middle\" x=\"775.38\" y=\"-13.7\" font-family=\"Times,serif\" font-size=\"14.00\">grad 0.0000</text>\n",
       "</g>\n",
       "<!-- 4961901840&#45;&gt;5761298000* -->\n",
       "<g id=\"edge8\" class=\"edge\">\n",
       "<title>4961901840&#45;&gt;5761298000*</title>\n",
       "<path fill=\"none\" stroke=\"black\" d=\"M816.25,-34.67C825.01,-36.21 833.5,-37.7 841.24,-39.05\"/>\n",
       "<polygon fill=\"black\" stroke=\"black\" points=\"840.39,-42.46 850.84,-40.74 841.6,-35.56 840.39,-42.46\"/>\n",
       "</g>\n",
       "</g>\n",
       "</svg>\n"
      ],
      "text/plain": [
       "<graphviz.graphs.Digraph at 0x15532f1d0>"
      ]
     },
     "execution_count": 115,
     "metadata": {},
     "output_type": "execute_result"
    }
   ],
   "source": [
    "# Expression\n",
    "draw_dot(L)"
   ]
  },
  {
   "cell_type": "markdown",
   "metadata": {},
   "source": [
    "If we nudle L with h, how much does L change? \n",
    "The answer is h, it is proportional!\n",
    "change is h/h = 1\n",
    "\n",
    "So, dL/dL = 1"
   ]
  },
  {
   "cell_type": "code",
   "execution_count": 127,
   "metadata": {},
   "outputs": [
    {
     "name": "stdout",
     "output_type": "stream",
     "text": [
      "{Value(data=4.0), Value(data=-2.0)}\n",
      "*\n"
     ]
    }
   ],
   "source": [
    "# Children nodes of L\n",
    "print(L._prev)\n",
    "# Operation that created L\n",
    "print(L._op)"
   ]
  },
  {
   "cell_type": "markdown",
   "metadata": {},
   "source": [
    "We know that L = d * f\n",
    "\n",
    "df/dd is 0\n",
    "\n",
    "f is not impacted by d in any way in the graph\n",
    "\n",
    "So, dL/dd = d(d*f)/dd = d * df/dd + f * dd/dd = f\n",
    "\n",
    "Hence, dL/dd = f\n",
    "\n",
    "\n",
    "Or, manually! We need to nudge d with h as we are taking derivative wr to d.\n",
    "\n",
    "So, dL/dd = f(x + h) - f(x) / h = (d + h) * f - df / h = d * f + h * f - d * f / h = f\n",
    "\n",
    "\n",
    "What is dL/df = d\n",
    "\n",
    "We need to nudge f by h.\n",
    "\n",
    "So, dL/dd = f(x + h) - f(x) / h = d * (f + h) - df / h = df + dh - df / h = d"
   ]
  },
  {
   "cell_type": "code",
   "execution_count": 134,
   "metadata": {},
   "outputs": [
    {
     "data": {
      "image/svg+xml": [
       "<?xml version=\"1.0\" encoding=\"UTF-8\" standalone=\"no\"?>\n",
       "<!DOCTYPE svg PUBLIC \"-//W3C//DTD SVG 1.1//EN\"\n",
       " \"http://www.w3.org/Graphics/SVG/1.1/DTD/svg11.dtd\">\n",
       "<!-- Generated by graphviz version 12.0.0 (20240704.0754)\n",
       " -->\n",
       "<!-- Pages: 1 -->\n",
       "<svg width=\"1142pt\" height=\"156pt\"\n",
       " viewBox=\"0.00 0.00 1142.00 156.00\" xmlns=\"http://www.w3.org/2000/svg\" xmlns:xlink=\"http://www.w3.org/1999/xlink\">\n",
       "<g id=\"graph0\" class=\"graph\" transform=\"scale(1 1) rotate(0) translate(4 152)\">\n",
       "<polygon fill=\"white\" stroke=\"none\" points=\"-4,4 -4,-152 1138,-152 1138,4 -4,4\"/>\n",
       "<!-- 4961902160 -->\n",
       "<g id=\"node1\" class=\"node\">\n",
       "<title>4961902160</title>\n",
       "<polygon fill=\"none\" stroke=\"black\" points=\"0,-111.5 0,-147.5 188.25,-147.5 188.25,-111.5 0,-111.5\"/>\n",
       "<text text-anchor=\"middle\" x=\"11.38\" y=\"-124.7\" font-family=\"Times,serif\" font-size=\"14.00\">b</text>\n",
       "<polyline fill=\"none\" stroke=\"black\" points=\"22.75,-112 22.75,-147.5\"/>\n",
       "<text text-anchor=\"middle\" x=\"64.88\" y=\"-124.7\" font-family=\"Times,serif\" font-size=\"14.00\">data &#45;3.0000</text>\n",
       "<polyline fill=\"none\" stroke=\"black\" points=\"107,-112 107,-147.5\"/>\n",
       "<text text-anchor=\"middle\" x=\"147.62\" y=\"-124.7\" font-family=\"Times,serif\" font-size=\"14.00\">grad 0.0000</text>\n",
       "</g>\n",
       "<!-- 5725479120* -->\n",
       "<g id=\"node6\" class=\"node\">\n",
       "<title>5725479120*</title>\n",
       "<ellipse fill=\"none\" stroke=\"black\" cx=\"251.25\" cy=\"-101.5\" rx=\"27\" ry=\"18\"/>\n",
       "<text text-anchor=\"middle\" x=\"251.25\" y=\"-96.45\" font-family=\"Times,serif\" font-size=\"14.00\">*</text>\n",
       "</g>\n",
       "<!-- 4961902160&#45;&gt;5725479120* -->\n",
       "<g id=\"edge6\" class=\"edge\">\n",
       "<title>4961902160&#45;&gt;5725479120*</title>\n",
       "<path fill=\"none\" stroke=\"black\" d=\"M188.49,-112.65C197.36,-111.05 205.93,-109.5 213.73,-108.09\"/>\n",
       "<polygon fill=\"black\" stroke=\"black\" points=\"214.2,-111.56 223.42,-106.34 212.95,-104.68 214.2,-111.56\"/>\n",
       "</g>\n",
       "<!-- 5761298000 -->\n",
       "<g id=\"node2\" class=\"node\">\n",
       "<title>5761298000</title>\n",
       "<polygon fill=\"none\" stroke=\"black\" points=\"944.25,-27.5 944.25,-63.5 1134,-63.5 1134,-27.5 944.25,-27.5\"/>\n",
       "<text text-anchor=\"middle\" x=\"956.38\" y=\"-40.7\" font-family=\"Times,serif\" font-size=\"14.00\">L</text>\n",
       "<polyline fill=\"none\" stroke=\"black\" points=\"968.5,-28 968.5,-63.5\"/>\n",
       "<text text-anchor=\"middle\" x=\"1010.62\" y=\"-40.7\" font-family=\"Times,serif\" font-size=\"14.00\">data &#45;8.0000</text>\n",
       "<polyline fill=\"none\" stroke=\"black\" points=\"1052.75,-28 1052.75,-63.5\"/>\n",
       "<text text-anchor=\"middle\" x=\"1093.38\" y=\"-40.7\" font-family=\"Times,serif\" font-size=\"14.00\">grad 1.0000</text>\n",
       "</g>\n",
       "<!-- 5761298000* -->\n",
       "<g id=\"node3\" class=\"node\">\n",
       "<title>5761298000*</title>\n",
       "<ellipse fill=\"none\" stroke=\"black\" cx=\"881.25\" cy=\"-45.5\" rx=\"27\" ry=\"18\"/>\n",
       "<text text-anchor=\"middle\" x=\"881.25\" y=\"-40.45\" font-family=\"Times,serif\" font-size=\"14.00\">*</text>\n",
       "</g>\n",
       "<!-- 5761298000*&#45;&gt;5761298000 -->\n",
       "<g id=\"edge1\" class=\"edge\">\n",
       "<title>5761298000*&#45;&gt;5761298000</title>\n",
       "<path fill=\"none\" stroke=\"black\" d=\"M908.69,-45.5C915.84,-45.5 924.03,-45.5 932.74,-45.5\"/>\n",
       "<polygon fill=\"black\" stroke=\"black\" points=\"932.51,-49 942.51,-45.5 932.51,-42 932.51,-49\"/>\n",
       "</g>\n",
       "<!-- 4961896080 -->\n",
       "<g id=\"node4\" class=\"node\">\n",
       "<title>4961896080</title>\n",
       "<polygon fill=\"none\" stroke=\"black\" points=\"314.25,-28.5 314.25,-64.5 504,-64.5 504,-28.5 314.25,-28.5\"/>\n",
       "<text text-anchor=\"middle\" x=\"325.25\" y=\"-41.7\" font-family=\"Times,serif\" font-size=\"14.00\">c</text>\n",
       "<polyline fill=\"none\" stroke=\"black\" points=\"336.25,-29 336.25,-64.5\"/>\n",
       "<text text-anchor=\"middle\" x=\"379.5\" y=\"-41.7\" font-family=\"Times,serif\" font-size=\"14.00\">data 10.0000</text>\n",
       "<polyline fill=\"none\" stroke=\"black\" points=\"422.75,-29 422.75,-64.5\"/>\n",
       "<text text-anchor=\"middle\" x=\"463.38\" y=\"-41.7\" font-family=\"Times,serif\" font-size=\"14.00\">grad 0.0000</text>\n",
       "</g>\n",
       "<!-- 4961903376+ -->\n",
       "<g id=\"node9\" class=\"node\">\n",
       "<title>4961903376+</title>\n",
       "<ellipse fill=\"none\" stroke=\"black\" cx=\"567\" cy=\"-73.5\" rx=\"27\" ry=\"18\"/>\n",
       "<text text-anchor=\"middle\" x=\"567\" y=\"-68.45\" font-family=\"Times,serif\" font-size=\"14.00\">+</text>\n",
       "</g>\n",
       "<!-- 4961896080&#45;&gt;4961903376+ -->\n",
       "<g id=\"edge4\" class=\"edge\">\n",
       "<title>4961896080&#45;&gt;4961903376+</title>\n",
       "<path fill=\"none\" stroke=\"black\" d=\"M504.39,-62.83C513.16,-64.35 521.65,-65.82 529.37,-67.15\"/>\n",
       "<polygon fill=\"black\" stroke=\"black\" points=\"528.5,-70.56 538.95,-68.81 529.69,-63.66 528.5,-70.56\"/>\n",
       "</g>\n",
       "<!-- 5725479120 -->\n",
       "<g id=\"node5\" class=\"node\">\n",
       "<title>5725479120</title>\n",
       "<polygon fill=\"none\" stroke=\"black\" points=\"315.38,-83.5 315.38,-119.5 502.88,-119.5 502.88,-83.5 315.38,-83.5\"/>\n",
       "<text text-anchor=\"middle\" x=\"326.38\" y=\"-96.7\" font-family=\"Times,serif\" font-size=\"14.00\">e</text>\n",
       "<polyline fill=\"none\" stroke=\"black\" points=\"337.38,-84 337.38,-119.5\"/>\n",
       "<text text-anchor=\"middle\" x=\"379.5\" y=\"-96.7\" font-family=\"Times,serif\" font-size=\"14.00\">data &#45;6.0000</text>\n",
       "<polyline fill=\"none\" stroke=\"black\" points=\"421.62,-84 421.62,-119.5\"/>\n",
       "<text text-anchor=\"middle\" x=\"462.25\" y=\"-96.7\" font-family=\"Times,serif\" font-size=\"14.00\">grad 0.0000</text>\n",
       "</g>\n",
       "<!-- 5725479120&#45;&gt;4961903376+ -->\n",
       "<g id=\"edge7\" class=\"edge\">\n",
       "<title>5725479120&#45;&gt;4961903376+</title>\n",
       "<path fill=\"none\" stroke=\"black\" d=\"M503.05,-84.81C512.25,-83.16 521.16,-81.56 529.24,-80.1\"/>\n",
       "<polygon fill=\"black\" stroke=\"black\" points=\"529.71,-83.58 538.93,-78.36 528.47,-76.69 529.71,-83.58\"/>\n",
       "</g>\n",
       "<!-- 5725479120*&#45;&gt;5725479120 -->\n",
       "<g id=\"edge2\" class=\"edge\">\n",
       "<title>5725479120*&#45;&gt;5725479120</title>\n",
       "<path fill=\"none\" stroke=\"black\" d=\"M278.69,-101.5C286.1,-101.5 294.64,-101.5 303.71,-101.5\"/>\n",
       "<polygon fill=\"black\" stroke=\"black\" points=\"303.51,-105 313.51,-101.5 303.51,-98 303.51,-105\"/>\n",
       "</g>\n",
       "<!-- 4961906896 -->\n",
       "<g id=\"node7\" class=\"node\">\n",
       "<title>4961906896</title>\n",
       "<polygon fill=\"none\" stroke=\"black\" points=\"2.62,-56.5 2.62,-92.5 185.62,-92.5 185.62,-56.5 2.62,-56.5\"/>\n",
       "<text text-anchor=\"middle\" x=\"13.62\" y=\"-69.7\" font-family=\"Times,serif\" font-size=\"14.00\">a</text>\n",
       "<polyline fill=\"none\" stroke=\"black\" points=\"24.62,-57 24.62,-92.5\"/>\n",
       "<text text-anchor=\"middle\" x=\"64.5\" y=\"-69.7\" font-family=\"Times,serif\" font-size=\"14.00\">data 2.0000</text>\n",
       "<polyline fill=\"none\" stroke=\"black\" points=\"104.38,-57 104.38,-92.5\"/>\n",
       "<text text-anchor=\"middle\" x=\"145\" y=\"-69.7\" font-family=\"Times,serif\" font-size=\"14.00\">grad 0.0000</text>\n",
       "</g>\n",
       "<!-- 4961906896&#45;&gt;5725479120* -->\n",
       "<g id=\"edge5\" class=\"edge\">\n",
       "<title>4961906896&#45;&gt;5725479120*</title>\n",
       "<path fill=\"none\" stroke=\"black\" d=\"M185.81,-90.28C195.45,-91.96 204.82,-93.59 213.29,-95.07\"/>\n",
       "<polygon fill=\"black\" stroke=\"black\" points=\"212.65,-98.51 223.1,-96.77 213.85,-91.61 212.65,-98.51\"/>\n",
       "</g>\n",
       "<!-- 4961903376 -->\n",
       "<g id=\"node8\" class=\"node\">\n",
       "<title>4961903376</title>\n",
       "<polygon fill=\"none\" stroke=\"black\" points=\"630,-55.5 630,-91.5 818.25,-91.5 818.25,-55.5 630,-55.5\"/>\n",
       "<text text-anchor=\"middle\" x=\"641.38\" y=\"-68.7\" font-family=\"Times,serif\" font-size=\"14.00\">d</text>\n",
       "<polyline fill=\"none\" stroke=\"black\" points=\"652.75,-56 652.75,-91.5\"/>\n",
       "<text text-anchor=\"middle\" x=\"692.62\" y=\"-68.7\" font-family=\"Times,serif\" font-size=\"14.00\">data 4.0000</text>\n",
       "<polyline fill=\"none\" stroke=\"black\" points=\"732.5,-56 732.5,-91.5\"/>\n",
       "<text text-anchor=\"middle\" x=\"775.38\" y=\"-68.7\" font-family=\"Times,serif\" font-size=\"14.00\">grad &#45;2.0000</text>\n",
       "</g>\n",
       "<!-- 4961903376&#45;&gt;5761298000* -->\n",
       "<g id=\"edge9\" class=\"edge\">\n",
       "<title>4961903376&#45;&gt;5761298000*</title>\n",
       "<path fill=\"none\" stroke=\"black\" d=\"M818.49,-56.65C827.36,-55.05 835.93,-53.5 843.73,-52.09\"/>\n",
       "<polygon fill=\"black\" stroke=\"black\" points=\"844.2,-55.56 853.42,-50.34 842.95,-48.68 844.2,-55.56\"/>\n",
       "</g>\n",
       "<!-- 4961903376+&#45;&gt;4961903376 -->\n",
       "<g id=\"edge3\" class=\"edge\">\n",
       "<title>4961903376+&#45;&gt;4961903376</title>\n",
       "<path fill=\"none\" stroke=\"black\" d=\"M594.31,-73.5C601.49,-73.5 609.72,-73.5 618.47,-73.5\"/>\n",
       "<polygon fill=\"black\" stroke=\"black\" points=\"618.29,-77 628.29,-73.5 618.29,-70 618.29,-77\"/>\n",
       "</g>\n",
       "<!-- 4961901840 -->\n",
       "<g id=\"node10\" class=\"node\">\n",
       "<title>4961901840</title>\n",
       "<polygon fill=\"none\" stroke=\"black\" points=\"631.12,-0.5 631.12,-36.5 817.12,-36.5 817.12,-0.5 631.12,-0.5\"/>\n",
       "<text text-anchor=\"middle\" x=\"641.38\" y=\"-13.7\" font-family=\"Times,serif\" font-size=\"14.00\">f</text>\n",
       "<polyline fill=\"none\" stroke=\"black\" points=\"651.62,-1 651.62,-36.5\"/>\n",
       "<text text-anchor=\"middle\" x=\"693.75\" y=\"-13.7\" font-family=\"Times,serif\" font-size=\"14.00\">data &#45;2.0000</text>\n",
       "<polyline fill=\"none\" stroke=\"black\" points=\"735.88,-1 735.88,-36.5\"/>\n",
       "<text text-anchor=\"middle\" x=\"776.5\" y=\"-13.7\" font-family=\"Times,serif\" font-size=\"14.00\">grad 4.0000</text>\n",
       "</g>\n",
       "<!-- 4961901840&#45;&gt;5761298000* -->\n",
       "<g id=\"edge8\" class=\"edge\">\n",
       "<title>4961901840&#45;&gt;5761298000*</title>\n",
       "<path fill=\"none\" stroke=\"black\" d=\"M817.6,-34.6C826.76,-36.19 835.62,-37.73 843.67,-39.13\"/>\n",
       "<polygon fill=\"black\" stroke=\"black\" points=\"842.85,-42.54 853.3,-40.81 844.05,-35.65 842.85,-42.54\"/>\n",
       "</g>\n",
       "</g>\n",
       "</svg>\n"
      ],
      "text/plain": [
       "<graphviz.graphs.Digraph at 0x127b7b650>"
      ]
     },
     "execution_count": 134,
     "metadata": {},
     "output_type": "execute_result"
    }
   ],
   "source": [
    "# We want to compute grad with respect to d.\n",
    "# Here, dL / dL = 1.00\n",
    "# dL / df = 4.00 (d)\n",
    "# dL / dd = -2.0 (f)\n",
    "\n",
    "# hardcode gradients\n",
    "L.grad = 1.0 # Base case\n",
    "d.grad = -2.0\n",
    "f.grad = 4.0\n",
    "\n",
    "\n",
    "draw_dot(L)"
   ]
  },
  {
   "cell_type": "code",
   "execution_count": 140,
   "metadata": {},
   "outputs": [
    {
     "name": "stdout",
     "output_type": "stream",
     "text": [
      "Derivative of L with respect to d:  -2.0000000056086265\n",
      "Derivative of L with respect to f:  4.000000002335469\n",
      "Derivative of L with respect to a:  1.0000000028043132\n"
     ]
    },
    {
     "data": {
      "image/svg+xml": [
       "<?xml version=\"1.0\" encoding=\"UTF-8\" standalone=\"no\"?>\n",
       "<!DOCTYPE svg PUBLIC \"-//W3C//DTD SVG 1.1//EN\"\n",
       " \"http://www.w3.org/Graphics/SVG/1.1/DTD/svg11.dtd\">\n",
       "<!-- Generated by graphviz version 12.0.0 (20240704.0754)\n",
       " -->\n",
       "<!-- Pages: 1 -->\n",
       "<svg width=\"1142pt\" height=\"156pt\"\n",
       " viewBox=\"0.00 0.00 1142.00 156.00\" xmlns=\"http://www.w3.org/2000/svg\" xmlns:xlink=\"http://www.w3.org/1999/xlink\">\n",
       "<g id=\"graph0\" class=\"graph\" transform=\"scale(1 1) rotate(0) translate(4 152)\">\n",
       "<polygon fill=\"white\" stroke=\"none\" points=\"-4,4 -4,-152 1138,-152 1138,4 -4,4\"/>\n",
       "<!-- 4961902160 -->\n",
       "<g id=\"node1\" class=\"node\">\n",
       "<title>4961902160</title>\n",
       "<polygon fill=\"none\" stroke=\"black\" points=\"0,-111.5 0,-147.5 188.25,-147.5 188.25,-111.5 0,-111.5\"/>\n",
       "<text text-anchor=\"middle\" x=\"11.38\" y=\"-124.7\" font-family=\"Times,serif\" font-size=\"14.00\">b</text>\n",
       "<polyline fill=\"none\" stroke=\"black\" points=\"22.75,-112 22.75,-147.5\"/>\n",
       "<text text-anchor=\"middle\" x=\"64.88\" y=\"-124.7\" font-family=\"Times,serif\" font-size=\"14.00\">data &#45;3.0000</text>\n",
       "<polyline fill=\"none\" stroke=\"black\" points=\"107,-112 107,-147.5\"/>\n",
       "<text text-anchor=\"middle\" x=\"147.62\" y=\"-124.7\" font-family=\"Times,serif\" font-size=\"14.00\">grad 0.0000</text>\n",
       "</g>\n",
       "<!-- 5725479120* -->\n",
       "<g id=\"node6\" class=\"node\">\n",
       "<title>5725479120*</title>\n",
       "<ellipse fill=\"none\" stroke=\"black\" cx=\"251.25\" cy=\"-101.5\" rx=\"27\" ry=\"18\"/>\n",
       "<text text-anchor=\"middle\" x=\"251.25\" y=\"-96.45\" font-family=\"Times,serif\" font-size=\"14.00\">*</text>\n",
       "</g>\n",
       "<!-- 4961902160&#45;&gt;5725479120* -->\n",
       "<g id=\"edge6\" class=\"edge\">\n",
       "<title>4961902160&#45;&gt;5725479120*</title>\n",
       "<path fill=\"none\" stroke=\"black\" d=\"M188.49,-112.65C197.36,-111.05 205.93,-109.5 213.73,-108.09\"/>\n",
       "<polygon fill=\"black\" stroke=\"black\" points=\"214.2,-111.56 223.42,-106.34 212.95,-104.68 214.2,-111.56\"/>\n",
       "</g>\n",
       "<!-- 5761298000 -->\n",
       "<g id=\"node2\" class=\"node\">\n",
       "<title>5761298000</title>\n",
       "<polygon fill=\"none\" stroke=\"black\" points=\"944.25,-27.5 944.25,-63.5 1134,-63.5 1134,-27.5 944.25,-27.5\"/>\n",
       "<text text-anchor=\"middle\" x=\"956.38\" y=\"-40.7\" font-family=\"Times,serif\" font-size=\"14.00\">L</text>\n",
       "<polyline fill=\"none\" stroke=\"black\" points=\"968.5,-28 968.5,-63.5\"/>\n",
       "<text text-anchor=\"middle\" x=\"1010.62\" y=\"-40.7\" font-family=\"Times,serif\" font-size=\"14.00\">data &#45;8.0000</text>\n",
       "<polyline fill=\"none\" stroke=\"black\" points=\"1052.75,-28 1052.75,-63.5\"/>\n",
       "<text text-anchor=\"middle\" x=\"1093.38\" y=\"-40.7\" font-family=\"Times,serif\" font-size=\"14.00\">grad 1.0000</text>\n",
       "</g>\n",
       "<!-- 5761298000* -->\n",
       "<g id=\"node3\" class=\"node\">\n",
       "<title>5761298000*</title>\n",
       "<ellipse fill=\"none\" stroke=\"black\" cx=\"881.25\" cy=\"-45.5\" rx=\"27\" ry=\"18\"/>\n",
       "<text text-anchor=\"middle\" x=\"881.25\" y=\"-40.45\" font-family=\"Times,serif\" font-size=\"14.00\">*</text>\n",
       "</g>\n",
       "<!-- 5761298000*&#45;&gt;5761298000 -->\n",
       "<g id=\"edge1\" class=\"edge\">\n",
       "<title>5761298000*&#45;&gt;5761298000</title>\n",
       "<path fill=\"none\" stroke=\"black\" d=\"M908.69,-45.5C915.84,-45.5 924.03,-45.5 932.74,-45.5\"/>\n",
       "<polygon fill=\"black\" stroke=\"black\" points=\"932.51,-49 942.51,-45.5 932.51,-42 932.51,-49\"/>\n",
       "</g>\n",
       "<!-- 4961896080 -->\n",
       "<g id=\"node4\" class=\"node\">\n",
       "<title>4961896080</title>\n",
       "<polygon fill=\"none\" stroke=\"black\" points=\"314.25,-28.5 314.25,-64.5 504,-64.5 504,-28.5 314.25,-28.5\"/>\n",
       "<text text-anchor=\"middle\" x=\"325.25\" y=\"-41.7\" font-family=\"Times,serif\" font-size=\"14.00\">c</text>\n",
       "<polyline fill=\"none\" stroke=\"black\" points=\"336.25,-29 336.25,-64.5\"/>\n",
       "<text text-anchor=\"middle\" x=\"379.5\" y=\"-41.7\" font-family=\"Times,serif\" font-size=\"14.00\">data 10.0000</text>\n",
       "<polyline fill=\"none\" stroke=\"black\" points=\"422.75,-29 422.75,-64.5\"/>\n",
       "<text text-anchor=\"middle\" x=\"463.38\" y=\"-41.7\" font-family=\"Times,serif\" font-size=\"14.00\">grad 0.0000</text>\n",
       "</g>\n",
       "<!-- 4961903376+ -->\n",
       "<g id=\"node9\" class=\"node\">\n",
       "<title>4961903376+</title>\n",
       "<ellipse fill=\"none\" stroke=\"black\" cx=\"567\" cy=\"-73.5\" rx=\"27\" ry=\"18\"/>\n",
       "<text text-anchor=\"middle\" x=\"567\" y=\"-68.45\" font-family=\"Times,serif\" font-size=\"14.00\">+</text>\n",
       "</g>\n",
       "<!-- 4961896080&#45;&gt;4961903376+ -->\n",
       "<g id=\"edge4\" class=\"edge\">\n",
       "<title>4961896080&#45;&gt;4961903376+</title>\n",
       "<path fill=\"none\" stroke=\"black\" d=\"M504.39,-62.83C513.16,-64.35 521.65,-65.82 529.37,-67.15\"/>\n",
       "<polygon fill=\"black\" stroke=\"black\" points=\"528.5,-70.56 538.95,-68.81 529.69,-63.66 528.5,-70.56\"/>\n",
       "</g>\n",
       "<!-- 5725479120 -->\n",
       "<g id=\"node5\" class=\"node\">\n",
       "<title>5725479120</title>\n",
       "<polygon fill=\"none\" stroke=\"black\" points=\"315.38,-83.5 315.38,-119.5 502.88,-119.5 502.88,-83.5 315.38,-83.5\"/>\n",
       "<text text-anchor=\"middle\" x=\"326.38\" y=\"-96.7\" font-family=\"Times,serif\" font-size=\"14.00\">e</text>\n",
       "<polyline fill=\"none\" stroke=\"black\" points=\"337.38,-84 337.38,-119.5\"/>\n",
       "<text text-anchor=\"middle\" x=\"379.5\" y=\"-96.7\" font-family=\"Times,serif\" font-size=\"14.00\">data &#45;6.0000</text>\n",
       "<polyline fill=\"none\" stroke=\"black\" points=\"421.62,-84 421.62,-119.5\"/>\n",
       "<text text-anchor=\"middle\" x=\"462.25\" y=\"-96.7\" font-family=\"Times,serif\" font-size=\"14.00\">grad 0.0000</text>\n",
       "</g>\n",
       "<!-- 5725479120&#45;&gt;4961903376+ -->\n",
       "<g id=\"edge7\" class=\"edge\">\n",
       "<title>5725479120&#45;&gt;4961903376+</title>\n",
       "<path fill=\"none\" stroke=\"black\" d=\"M503.05,-84.81C512.25,-83.16 521.16,-81.56 529.24,-80.1\"/>\n",
       "<polygon fill=\"black\" stroke=\"black\" points=\"529.71,-83.58 538.93,-78.36 528.47,-76.69 529.71,-83.58\"/>\n",
       "</g>\n",
       "<!-- 5725479120*&#45;&gt;5725479120 -->\n",
       "<g id=\"edge2\" class=\"edge\">\n",
       "<title>5725479120*&#45;&gt;5725479120</title>\n",
       "<path fill=\"none\" stroke=\"black\" d=\"M278.69,-101.5C286.1,-101.5 294.64,-101.5 303.71,-101.5\"/>\n",
       "<polygon fill=\"black\" stroke=\"black\" points=\"303.51,-105 313.51,-101.5 303.51,-98 303.51,-105\"/>\n",
       "</g>\n",
       "<!-- 4961906896 -->\n",
       "<g id=\"node7\" class=\"node\">\n",
       "<title>4961906896</title>\n",
       "<polygon fill=\"none\" stroke=\"black\" points=\"2.62,-56.5 2.62,-92.5 185.62,-92.5 185.62,-56.5 2.62,-56.5\"/>\n",
       "<text text-anchor=\"middle\" x=\"13.62\" y=\"-69.7\" font-family=\"Times,serif\" font-size=\"14.00\">a</text>\n",
       "<polyline fill=\"none\" stroke=\"black\" points=\"24.62,-57 24.62,-92.5\"/>\n",
       "<text text-anchor=\"middle\" x=\"64.5\" y=\"-69.7\" font-family=\"Times,serif\" font-size=\"14.00\">data 2.0000</text>\n",
       "<polyline fill=\"none\" stroke=\"black\" points=\"104.38,-57 104.38,-92.5\"/>\n",
       "<text text-anchor=\"middle\" x=\"145\" y=\"-69.7\" font-family=\"Times,serif\" font-size=\"14.00\">grad 0.0000</text>\n",
       "</g>\n",
       "<!-- 4961906896&#45;&gt;5725479120* -->\n",
       "<g id=\"edge5\" class=\"edge\">\n",
       "<title>4961906896&#45;&gt;5725479120*</title>\n",
       "<path fill=\"none\" stroke=\"black\" d=\"M185.81,-90.28C195.45,-91.96 204.82,-93.59 213.29,-95.07\"/>\n",
       "<polygon fill=\"black\" stroke=\"black\" points=\"212.65,-98.51 223.1,-96.77 213.85,-91.61 212.65,-98.51\"/>\n",
       "</g>\n",
       "<!-- 4961903376 -->\n",
       "<g id=\"node8\" class=\"node\">\n",
       "<title>4961903376</title>\n",
       "<polygon fill=\"none\" stroke=\"black\" points=\"630,-55.5 630,-91.5 818.25,-91.5 818.25,-55.5 630,-55.5\"/>\n",
       "<text text-anchor=\"middle\" x=\"641.38\" y=\"-68.7\" font-family=\"Times,serif\" font-size=\"14.00\">d</text>\n",
       "<polyline fill=\"none\" stroke=\"black\" points=\"652.75,-56 652.75,-91.5\"/>\n",
       "<text text-anchor=\"middle\" x=\"692.62\" y=\"-68.7\" font-family=\"Times,serif\" font-size=\"14.00\">data 4.0000</text>\n",
       "<polyline fill=\"none\" stroke=\"black\" points=\"732.5,-56 732.5,-91.5\"/>\n",
       "<text text-anchor=\"middle\" x=\"775.38\" y=\"-68.7\" font-family=\"Times,serif\" font-size=\"14.00\">grad &#45;2.0000</text>\n",
       "</g>\n",
       "<!-- 4961903376&#45;&gt;5761298000* -->\n",
       "<g id=\"edge9\" class=\"edge\">\n",
       "<title>4961903376&#45;&gt;5761298000*</title>\n",
       "<path fill=\"none\" stroke=\"black\" d=\"M818.49,-56.65C827.36,-55.05 835.93,-53.5 843.73,-52.09\"/>\n",
       "<polygon fill=\"black\" stroke=\"black\" points=\"844.2,-55.56 853.42,-50.34 842.95,-48.68 844.2,-55.56\"/>\n",
       "</g>\n",
       "<!-- 4961903376+&#45;&gt;4961903376 -->\n",
       "<g id=\"edge3\" class=\"edge\">\n",
       "<title>4961903376+&#45;&gt;4961903376</title>\n",
       "<path fill=\"none\" stroke=\"black\" d=\"M594.31,-73.5C601.49,-73.5 609.72,-73.5 618.47,-73.5\"/>\n",
       "<polygon fill=\"black\" stroke=\"black\" points=\"618.29,-77 628.29,-73.5 618.29,-70 618.29,-77\"/>\n",
       "</g>\n",
       "<!-- 4961901840 -->\n",
       "<g id=\"node10\" class=\"node\">\n",
       "<title>4961901840</title>\n",
       "<polygon fill=\"none\" stroke=\"black\" points=\"631.12,-0.5 631.12,-36.5 817.12,-36.5 817.12,-0.5 631.12,-0.5\"/>\n",
       "<text text-anchor=\"middle\" x=\"641.38\" y=\"-13.7\" font-family=\"Times,serif\" font-size=\"14.00\">f</text>\n",
       "<polyline fill=\"none\" stroke=\"black\" points=\"651.62,-1 651.62,-36.5\"/>\n",
       "<text text-anchor=\"middle\" x=\"693.75\" y=\"-13.7\" font-family=\"Times,serif\" font-size=\"14.00\">data &#45;2.0000</text>\n",
       "<polyline fill=\"none\" stroke=\"black\" points=\"735.88,-1 735.88,-36.5\"/>\n",
       "<text text-anchor=\"middle\" x=\"776.5\" y=\"-13.7\" font-family=\"Times,serif\" font-size=\"14.00\">grad 4.0000</text>\n",
       "</g>\n",
       "<!-- 4961901840&#45;&gt;5761298000* -->\n",
       "<g id=\"edge8\" class=\"edge\">\n",
       "<title>4961901840&#45;&gt;5761298000*</title>\n",
       "<path fill=\"none\" stroke=\"black\" d=\"M817.6,-34.6C826.76,-36.19 835.62,-37.73 843.67,-39.13\"/>\n",
       "<polygon fill=\"black\" stroke=\"black\" points=\"842.85,-42.54 853.3,-40.81 844.05,-35.65 842.85,-42.54\"/>\n",
       "</g>\n",
       "</g>\n",
       "</svg>\n"
      ],
      "text/plain": [
       "<graphviz.graphs.Digraph at 0x154eeabd0>"
      ]
     },
     "execution_count": 140,
     "metadata": {},
     "output_type": "execute_result"
    }
   ],
   "source": [
    "# INLINE GRADIENT CHECK\n",
    "# Let's double check if dL/dd is correct\n",
    "def out_scope():\n",
    "    a = Value(2.0, label=\"a\")\n",
    "    b = Value(-3.0, label=\"b\")\n",
    "    c = Value(10.0, label=\"c\")\n",
    "    e = a * b\n",
    "    e.label = \"e\"\n",
    "    d = e + c\n",
    "    d.label = \"d\"\n",
    "    f = Value(-2.0, label=\"f\")\n",
    "    L = d * f\n",
    "    L.label = \"L\"\n",
    "\n",
    "    h = 0.0000001\n",
    "    a = Value(2.0, label=\"a\")\n",
    "    b = Value(-3.0, label=\"b\")\n",
    "    c = Value(10.0, label=\"c\")\n",
    "    e = a * b\n",
    "    e.label = \"e\"\n",
    "    d = e + c\n",
    "    d.data += h  # Nudge d\n",
    "    d.label = \"d\"\n",
    "    f = Value(-2.0, label=\"f\")\n",
    "    L_NEW = d * f\n",
    "    L_NEW.label = \"L\"\n",
    "\n",
    "    print(\"Derivative of L with respect to d: \", (L_NEW.data - L.data) / h)\n",
    "\n",
    "\n",
    "out_scope()\n",
    "\n",
    "\n",
    "# Let's double check if dL/df is correct\n",
    "def out_scope():\n",
    "    a = Value(2.0, label=\"a\")\n",
    "    b = Value(-3.0, label=\"b\")\n",
    "    c = Value(10.0, label=\"c\")\n",
    "    e = a * b\n",
    "    e.label = \"e\"\n",
    "    d = e + c\n",
    "    d.label = \"d\"\n",
    "    f = Value(-2.0, label=\"f\")\n",
    "    L = d * f\n",
    "    L.label = \"L\"\n",
    "\n",
    "    h = 0.0000001\n",
    "    a = Value(2.0, label=\"a\")\n",
    "    b = Value(-3.0, label=\"b\")\n",
    "    c = Value(10.0, label=\"c\")\n",
    "    e = a * b\n",
    "    e.label = \"e\"\n",
    "    d = e + c\n",
    "    d.label = \"d\"\n",
    "    f = Value(-2.0 + h, label=\"f\")  # Nudge f\n",
    "    L_NEW = d * f\n",
    "    L_NEW.label = \"L\"\n",
    "\n",
    "    print(\"Derivative of L with respect to f: \", (L_NEW.data - L.data) / h)\n",
    "\n",
    "\n",
    "out_scope()\n",
    "\n",
    "\n",
    "def out_scope():\n",
    "    a = Value(2.0, label=\"a\")\n",
    "    b = Value(-3.0, label=\"b\")\n",
    "    c = Value(10.0, label=\"c\")\n",
    "    e = a * b\n",
    "    e.label = \"e\"\n",
    "    d = e + c\n",
    "    d.label = \"d\"\n",
    "    f = Value(-2.0, label=\"f\")\n",
    "    L = d * f\n",
    "    L.label = \"L\"\n",
    "\n",
    "    h = 0.0000001\n",
    "    a = Value(2.0, label=\"a\")\n",
    "    b = Value(-3.0, label=\"b\")\n",
    "    c = Value(10.0, label=\"c\")\n",
    "    e = a * b\n",
    "    e.label = \"e\"\n",
    "    d = e + c\n",
    "    d.label = \"d\"\n",
    "    f = Value(-2.0, label=\"f\")\n",
    "    L_NEW = d * f\n",
    "    L_NEW.data += h\n",
    "    L_NEW.label = \"L\"\n",
    "\n",
    "    print(\"Derivative of L with respect to a: \", (L_NEW.data - L.data) / h)\n",
    "\n",
    "\n",
    "out_scope()\n",
    "\n",
    "\n",
    "draw_dot(L)"
   ]
  },
  {
   "cell_type": "markdown",
   "metadata": {},
   "source": [
    "We want to know dL/dc!\n",
    "\n",
    "We already know how L is sensitive to d, and we also know how d is sensitive to c.\n",
    "\n",
    "So, if L is impacted by d, and d is impacted by c then can not we just multiply? [Chain rule of calculus!]\n",
    "\n",
    "What is the impact of c on d?\n",
    "\n",
    "dd/dc = ?\n",
    "\n",
    "We know, d = (e + c)\n",
    "\n",
    "-> dd/dc = de/dc + dc/dc = 0 + 1 = 1\n",
    "\n",
    "Or, dd/dc = f(x + h) - f(x) / h = (e + c + h - e - c) / h =  1\n",
    "\n",
    "\n",
    "By symmetry! dd/de = 1\n",
    "\n",
    "\n",
    "Intuition: The sum expression just routes! The derivative of dL/dd gets routed"
   ]
  },
  {
   "cell_type": "code",
   "execution_count": 145,
   "metadata": {},
   "outputs": [
    {
     "name": "stdout",
     "output_type": "stream",
     "text": [
      "Derivative of L with respect to c:  -1.999999987845058\n",
      "Derivative of L with respect to e:  -2.0000000056086265\n"
     ]
    },
    {
     "data": {
      "image/svg+xml": [
       "<?xml version=\"1.0\" encoding=\"UTF-8\" standalone=\"no\"?>\n",
       "<!DOCTYPE svg PUBLIC \"-//W3C//DTD SVG 1.1//EN\"\n",
       " \"http://www.w3.org/Graphics/SVG/1.1/DTD/svg11.dtd\">\n",
       "<!-- Generated by graphviz version 12.0.0 (20240704.0754)\n",
       " -->\n",
       "<!-- Pages: 1 -->\n",
       "<svg width=\"1147pt\" height=\"156pt\"\n",
       " viewBox=\"0.00 0.00 1146.50 156.00\" xmlns=\"http://www.w3.org/2000/svg\" xmlns:xlink=\"http://www.w3.org/1999/xlink\">\n",
       "<g id=\"graph0\" class=\"graph\" transform=\"scale(1 1) rotate(0) translate(4 152)\">\n",
       "<polygon fill=\"white\" stroke=\"none\" points=\"-4,4 -4,-152 1142.5,-152 1142.5,4 -4,4\"/>\n",
       "<!-- 4961902160 -->\n",
       "<g id=\"node1\" class=\"node\">\n",
       "<title>4961902160</title>\n",
       "<polygon fill=\"none\" stroke=\"black\" points=\"0,-111.5 0,-147.5 188.25,-147.5 188.25,-111.5 0,-111.5\"/>\n",
       "<text text-anchor=\"middle\" x=\"11.38\" y=\"-124.7\" font-family=\"Times,serif\" font-size=\"14.00\">b</text>\n",
       "<polyline fill=\"none\" stroke=\"black\" points=\"22.75,-112 22.75,-147.5\"/>\n",
       "<text text-anchor=\"middle\" x=\"64.88\" y=\"-124.7\" font-family=\"Times,serif\" font-size=\"14.00\">data &#45;3.0000</text>\n",
       "<polyline fill=\"none\" stroke=\"black\" points=\"107,-112 107,-147.5\"/>\n",
       "<text text-anchor=\"middle\" x=\"147.62\" y=\"-124.7\" font-family=\"Times,serif\" font-size=\"14.00\">grad 0.0000</text>\n",
       "</g>\n",
       "<!-- 5725479120* -->\n",
       "<g id=\"node6\" class=\"node\">\n",
       "<title>5725479120*</title>\n",
       "<ellipse fill=\"none\" stroke=\"black\" cx=\"251.25\" cy=\"-101.5\" rx=\"27\" ry=\"18\"/>\n",
       "<text text-anchor=\"middle\" x=\"251.25\" y=\"-96.45\" font-family=\"Times,serif\" font-size=\"14.00\">*</text>\n",
       "</g>\n",
       "<!-- 4961902160&#45;&gt;5725479120* -->\n",
       "<g id=\"edge6\" class=\"edge\">\n",
       "<title>4961902160&#45;&gt;5725479120*</title>\n",
       "<path fill=\"none\" stroke=\"black\" d=\"M188.49,-112.65C197.36,-111.05 205.93,-109.5 213.73,-108.09\"/>\n",
       "<polygon fill=\"black\" stroke=\"black\" points=\"214.2,-111.56 223.42,-106.34 212.95,-104.68 214.2,-111.56\"/>\n",
       "</g>\n",
       "<!-- 5761298000 -->\n",
       "<g id=\"node2\" class=\"node\">\n",
       "<title>5761298000</title>\n",
       "<polygon fill=\"none\" stroke=\"black\" points=\"948.75,-27.5 948.75,-63.5 1138.5,-63.5 1138.5,-27.5 948.75,-27.5\"/>\n",
       "<text text-anchor=\"middle\" x=\"960.88\" y=\"-40.7\" font-family=\"Times,serif\" font-size=\"14.00\">L</text>\n",
       "<polyline fill=\"none\" stroke=\"black\" points=\"973,-28 973,-63.5\"/>\n",
       "<text text-anchor=\"middle\" x=\"1015.12\" y=\"-40.7\" font-family=\"Times,serif\" font-size=\"14.00\">data &#45;8.0000</text>\n",
       "<polyline fill=\"none\" stroke=\"black\" points=\"1057.25,-28 1057.25,-63.5\"/>\n",
       "<text text-anchor=\"middle\" x=\"1097.88\" y=\"-40.7\" font-family=\"Times,serif\" font-size=\"14.00\">grad 1.0000</text>\n",
       "</g>\n",
       "<!-- 5761298000* -->\n",
       "<g id=\"node3\" class=\"node\">\n",
       "<title>5761298000*</title>\n",
       "<ellipse fill=\"none\" stroke=\"black\" cx=\"885.75\" cy=\"-45.5\" rx=\"27\" ry=\"18\"/>\n",
       "<text text-anchor=\"middle\" x=\"885.75\" y=\"-40.45\" font-family=\"Times,serif\" font-size=\"14.00\">*</text>\n",
       "</g>\n",
       "<!-- 5761298000*&#45;&gt;5761298000 -->\n",
       "<g id=\"edge1\" class=\"edge\">\n",
       "<title>5761298000*&#45;&gt;5761298000</title>\n",
       "<path fill=\"none\" stroke=\"black\" d=\"M913.19,-45.5C920.34,-45.5 928.53,-45.5 937.24,-45.5\"/>\n",
       "<polygon fill=\"black\" stroke=\"black\" points=\"937.01,-49 947.01,-45.5 937.01,-42 937.01,-49\"/>\n",
       "</g>\n",
       "<!-- 4961896080 -->\n",
       "<g id=\"node4\" class=\"node\">\n",
       "<title>4961896080</title>\n",
       "<polygon fill=\"none\" stroke=\"black\" points=\"314.25,-28.5 314.25,-64.5 508.5,-64.5 508.5,-28.5 314.25,-28.5\"/>\n",
       "<text text-anchor=\"middle\" x=\"325.25\" y=\"-41.7\" font-family=\"Times,serif\" font-size=\"14.00\">c</text>\n",
       "<polyline fill=\"none\" stroke=\"black\" points=\"336.25,-29 336.25,-64.5\"/>\n",
       "<text text-anchor=\"middle\" x=\"379.5\" y=\"-41.7\" font-family=\"Times,serif\" font-size=\"14.00\">data 10.0000</text>\n",
       "<polyline fill=\"none\" stroke=\"black\" points=\"422.75,-29 422.75,-64.5\"/>\n",
       "<text text-anchor=\"middle\" x=\"465.62\" y=\"-41.7\" font-family=\"Times,serif\" font-size=\"14.00\">grad &#45;2.0000</text>\n",
       "</g>\n",
       "<!-- 4961903376+ -->\n",
       "<g id=\"node9\" class=\"node\">\n",
       "<title>4961903376+</title>\n",
       "<ellipse fill=\"none\" stroke=\"black\" cx=\"571.5\" cy=\"-73.5\" rx=\"27\" ry=\"18\"/>\n",
       "<text text-anchor=\"middle\" x=\"571.5\" y=\"-68.45\" font-family=\"Times,serif\" font-size=\"14.00\">+</text>\n",
       "</g>\n",
       "<!-- 4961896080&#45;&gt;4961903376+ -->\n",
       "<g id=\"edge4\" class=\"edge\">\n",
       "<title>4961896080&#45;&gt;4961903376+</title>\n",
       "<path fill=\"none\" stroke=\"black\" d=\"M508.91,-62.98C517.6,-64.47 526,-65.9 533.65,-67.21\"/>\n",
       "<polygon fill=\"black\" stroke=\"black\" points=\"533.05,-70.66 543.5,-68.89 534.23,-63.76 533.05,-70.66\"/>\n",
       "</g>\n",
       "<!-- 5725479120 -->\n",
       "<g id=\"node5\" class=\"node\">\n",
       "<title>5725479120</title>\n",
       "<polygon fill=\"none\" stroke=\"black\" points=\"315.38,-83.5 315.38,-119.5 507.38,-119.5 507.38,-83.5 315.38,-83.5\"/>\n",
       "<text text-anchor=\"middle\" x=\"326.38\" y=\"-96.7\" font-family=\"Times,serif\" font-size=\"14.00\">e</text>\n",
       "<polyline fill=\"none\" stroke=\"black\" points=\"337.38,-84 337.38,-119.5\"/>\n",
       "<text text-anchor=\"middle\" x=\"379.5\" y=\"-96.7\" font-family=\"Times,serif\" font-size=\"14.00\">data &#45;6.0000</text>\n",
       "<polyline fill=\"none\" stroke=\"black\" points=\"421.62,-84 421.62,-119.5\"/>\n",
       "<text text-anchor=\"middle\" x=\"464.5\" y=\"-96.7\" font-family=\"Times,serif\" font-size=\"14.00\">grad &#45;2.0000</text>\n",
       "</g>\n",
       "<!-- 5725479120&#45;&gt;4961903376+ -->\n",
       "<g id=\"edge7\" class=\"edge\">\n",
       "<title>5725479120&#45;&gt;4961903376+</title>\n",
       "<path fill=\"none\" stroke=\"black\" d=\"M507.55,-84.65C516.78,-83.01 525.7,-81.43 533.79,-80\"/>\n",
       "<polygon fill=\"black\" stroke=\"black\" points=\"534.24,-83.47 543.48,-78.28 533.02,-76.58 534.24,-83.47\"/>\n",
       "</g>\n",
       "<!-- 5725479120*&#45;&gt;5725479120 -->\n",
       "<g id=\"edge2\" class=\"edge\">\n",
       "<title>5725479120*&#45;&gt;5725479120</title>\n",
       "<path fill=\"none\" stroke=\"black\" d=\"M278.72,-101.5C286.09,-101.5 294.59,-101.5 303.63,-101.5\"/>\n",
       "<polygon fill=\"black\" stroke=\"black\" points=\"303.39,-105 313.39,-101.5 303.39,-98 303.39,-105\"/>\n",
       "</g>\n",
       "<!-- 4961906896 -->\n",
       "<g id=\"node7\" class=\"node\">\n",
       "<title>4961906896</title>\n",
       "<polygon fill=\"none\" stroke=\"black\" points=\"2.62,-56.5 2.62,-92.5 185.62,-92.5 185.62,-56.5 2.62,-56.5\"/>\n",
       "<text text-anchor=\"middle\" x=\"13.62\" y=\"-69.7\" font-family=\"Times,serif\" font-size=\"14.00\">a</text>\n",
       "<polyline fill=\"none\" stroke=\"black\" points=\"24.62,-57 24.62,-92.5\"/>\n",
       "<text text-anchor=\"middle\" x=\"64.5\" y=\"-69.7\" font-family=\"Times,serif\" font-size=\"14.00\">data 2.0000</text>\n",
       "<polyline fill=\"none\" stroke=\"black\" points=\"104.38,-57 104.38,-92.5\"/>\n",
       "<text text-anchor=\"middle\" x=\"145\" y=\"-69.7\" font-family=\"Times,serif\" font-size=\"14.00\">grad 0.0000</text>\n",
       "</g>\n",
       "<!-- 4961906896&#45;&gt;5725479120* -->\n",
       "<g id=\"edge5\" class=\"edge\">\n",
       "<title>4961906896&#45;&gt;5725479120*</title>\n",
       "<path fill=\"none\" stroke=\"black\" d=\"M185.81,-90.28C195.45,-91.96 204.82,-93.59 213.29,-95.07\"/>\n",
       "<polygon fill=\"black\" stroke=\"black\" points=\"212.65,-98.51 223.1,-96.77 213.85,-91.61 212.65,-98.51\"/>\n",
       "</g>\n",
       "<!-- 4961903376 -->\n",
       "<g id=\"node8\" class=\"node\">\n",
       "<title>4961903376</title>\n",
       "<polygon fill=\"none\" stroke=\"black\" points=\"634.5,-55.5 634.5,-91.5 822.75,-91.5 822.75,-55.5 634.5,-55.5\"/>\n",
       "<text text-anchor=\"middle\" x=\"645.88\" y=\"-68.7\" font-family=\"Times,serif\" font-size=\"14.00\">d</text>\n",
       "<polyline fill=\"none\" stroke=\"black\" points=\"657.25,-56 657.25,-91.5\"/>\n",
       "<text text-anchor=\"middle\" x=\"697.12\" y=\"-68.7\" font-family=\"Times,serif\" font-size=\"14.00\">data 4.0000</text>\n",
       "<polyline fill=\"none\" stroke=\"black\" points=\"737,-56 737,-91.5\"/>\n",
       "<text text-anchor=\"middle\" x=\"779.88\" y=\"-68.7\" font-family=\"Times,serif\" font-size=\"14.00\">grad &#45;2.0000</text>\n",
       "</g>\n",
       "<!-- 4961903376&#45;&gt;5761298000* -->\n",
       "<g id=\"edge9\" class=\"edge\">\n",
       "<title>4961903376&#45;&gt;5761298000*</title>\n",
       "<path fill=\"none\" stroke=\"black\" d=\"M822.99,-56.65C831.86,-55.05 840.43,-53.5 848.23,-52.09\"/>\n",
       "<polygon fill=\"black\" stroke=\"black\" points=\"848.7,-55.56 857.92,-50.34 847.45,-48.68 848.7,-55.56\"/>\n",
       "</g>\n",
       "<!-- 4961903376+&#45;&gt;4961903376 -->\n",
       "<g id=\"edge3\" class=\"edge\">\n",
       "<title>4961903376+&#45;&gt;4961903376</title>\n",
       "<path fill=\"none\" stroke=\"black\" d=\"M598.81,-73.5C605.99,-73.5 614.22,-73.5 622.97,-73.5\"/>\n",
       "<polygon fill=\"black\" stroke=\"black\" points=\"622.79,-77 632.79,-73.5 622.79,-70 622.79,-77\"/>\n",
       "</g>\n",
       "<!-- 4961901840 -->\n",
       "<g id=\"node10\" class=\"node\">\n",
       "<title>4961901840</title>\n",
       "<polygon fill=\"none\" stroke=\"black\" points=\"635.62,-0.5 635.62,-36.5 821.62,-36.5 821.62,-0.5 635.62,-0.5\"/>\n",
       "<text text-anchor=\"middle\" x=\"645.88\" y=\"-13.7\" font-family=\"Times,serif\" font-size=\"14.00\">f</text>\n",
       "<polyline fill=\"none\" stroke=\"black\" points=\"656.12,-1 656.12,-36.5\"/>\n",
       "<text text-anchor=\"middle\" x=\"698.25\" y=\"-13.7\" font-family=\"Times,serif\" font-size=\"14.00\">data &#45;2.0000</text>\n",
       "<polyline fill=\"none\" stroke=\"black\" points=\"740.38,-1 740.38,-36.5\"/>\n",
       "<text text-anchor=\"middle\" x=\"781\" y=\"-13.7\" font-family=\"Times,serif\" font-size=\"14.00\">grad 4.0000</text>\n",
       "</g>\n",
       "<!-- 4961901840&#45;&gt;5761298000* -->\n",
       "<g id=\"edge8\" class=\"edge\">\n",
       "<title>4961901840&#45;&gt;5761298000*</title>\n",
       "<path fill=\"none\" stroke=\"black\" d=\"M822.1,-34.6C831.26,-36.19 840.12,-37.73 848.17,-39.13\"/>\n",
       "<polygon fill=\"black\" stroke=\"black\" points=\"847.35,-42.54 857.8,-40.81 848.55,-35.65 847.35,-42.54\"/>\n",
       "</g>\n",
       "</g>\n",
       "</svg>\n"
      ],
      "text/plain": [
       "<graphviz.graphs.Digraph at 0x127b6cf90>"
      ]
     },
     "execution_count": 145,
     "metadata": {},
     "output_type": "execute_result"
    }
   ],
   "source": [
    "c.grad = -2.00 * 1\n",
    "e.grad = -2.00 * 1\n",
    "\n",
    "# Let's verify manually!\n",
    "def out_scope():\n",
    "    a = Value(2.0, label=\"a\")\n",
    "    b = Value(-3.0, label=\"b\")\n",
    "    c = Value(10.0, label=\"c\")\n",
    "    e = a * b\n",
    "    e.label = \"e\"\n",
    "    d = e + c\n",
    "    d.label = \"d\"\n",
    "    f = Value(-2.0, label=\"f\")\n",
    "    L = d * f\n",
    "    L.label = \"L\"\n",
    "\n",
    "    h = 0.0000001\n",
    "    a = Value(2.0, label=\"a\")\n",
    "    b = Value(-3.0, label=\"b\")\n",
    "    c = Value(10.0, label=\"c\")\n",
    "    c.data += h # Nudge c\n",
    "    e = a * b\n",
    "    e.label = \"e\"\n",
    "    d = e + c\n",
    "    d.label = \"d\"\n",
    "    f = Value(-2.0, label=\"f\")\n",
    "    L_NEW = d * f\n",
    "    L_NEW.label = \"L\"\n",
    "\n",
    "    print(\"Derivative of L with respect to c: \", (L_NEW.data - L.data) / h)\n",
    "\n",
    "\n",
    "out_scope()\n",
    "\n",
    "\n",
    "# Let's verify manually!\n",
    "def out_scope():\n",
    "    a = Value(2.0, label=\"a\")\n",
    "    b = Value(-3.0, label=\"b\")\n",
    "    c = Value(10.0, label=\"c\")\n",
    "    e = a * b\n",
    "    e.label = \"e\"\n",
    "    d = e + c\n",
    "    d.label = \"d\"\n",
    "    f = Value(-2.0, label=\"f\")\n",
    "    L = d * f\n",
    "    L.label = \"L\"\n",
    "\n",
    "    h = 0.0000001\n",
    "    a = Value(2.0, label=\"a\")\n",
    "    b = Value(-3.0, label=\"b\")\n",
    "    c = Value(10.0, label=\"c\")\n",
    "    e = a * b\n",
    "    e.label = \"e\"\n",
    "    e.data += h # Nudge e\n",
    "    d = e + c\n",
    "    d.label = \"d\"\n",
    "    f = Value(-2.0, label=\"f\")\n",
    "    L_NEW = d * f\n",
    "    L_NEW.label = \"L\"\n",
    "\n",
    "    print(\"Derivative of L with respect to e: \", (L_NEW.data - L.data) / h)\n",
    "\n",
    "\n",
    "out_scope()\n",
    "\n",
    "\n",
    "\n",
    "# Plus node distributes the derivative of the next node to all the children nodes\n",
    "draw_dot(L)"
   ]
  },
  {
   "cell_type": "markdown",
   "metadata": {},
   "source": [
    "dL/de = -2.0\n",
    "\n",
    "WANT: dL/da = dL/de * de/da\n",
    "\n",
    "de/da = b = -3.0\n",
    "\n",
    "So, de/da = -3.0\n",
    "\n",
    "hence, dL/da = -3.0 * -2.0 = 6.0"
   ]
  },
  {
   "cell_type": "code",
   "execution_count": 152,
   "metadata": {},
   "outputs": [
    {
     "name": "stdout",
     "output_type": "stream",
     "text": [
      "Derivative of L with respect to a:  5.999999963535174\n",
      "Derivative of L with respect to b:  -3.999999975690116\n"
     ]
    },
    {
     "data": {
      "image/svg+xml": [
       "<?xml version=\"1.0\" encoding=\"UTF-8\" standalone=\"no\"?>\n",
       "<!DOCTYPE svg PUBLIC \"-//W3C//DTD SVG 1.1//EN\"\n",
       " \"http://www.w3.org/Graphics/SVG/1.1/DTD/svg11.dtd\">\n",
       "<!-- Generated by graphviz version 12.0.0 (20240704.0754)\n",
       " -->\n",
       "<!-- Pages: 1 -->\n",
       "<svg width=\"1151pt\" height=\"156pt\"\n",
       " viewBox=\"0.00 0.00 1151.00 156.00\" xmlns=\"http://www.w3.org/2000/svg\" xmlns:xlink=\"http://www.w3.org/1999/xlink\">\n",
       "<g id=\"graph0\" class=\"graph\" transform=\"scale(1 1) rotate(0) translate(4 152)\">\n",
       "<polygon fill=\"white\" stroke=\"none\" points=\"-4,4 -4,-152 1147,-152 1147,4 -4,4\"/>\n",
       "<!-- 4961902160 -->\n",
       "<g id=\"node1\" class=\"node\">\n",
       "<title>4961902160</title>\n",
       "<polygon fill=\"none\" stroke=\"black\" points=\"0,-111.5 0,-147.5 192.75,-147.5 192.75,-111.5 0,-111.5\"/>\n",
       "<text text-anchor=\"middle\" x=\"11.38\" y=\"-124.7\" font-family=\"Times,serif\" font-size=\"14.00\">b</text>\n",
       "<polyline fill=\"none\" stroke=\"black\" points=\"22.75,-112 22.75,-147.5\"/>\n",
       "<text text-anchor=\"middle\" x=\"64.88\" y=\"-124.7\" font-family=\"Times,serif\" font-size=\"14.00\">data &#45;3.0000</text>\n",
       "<polyline fill=\"none\" stroke=\"black\" points=\"107,-112 107,-147.5\"/>\n",
       "<text text-anchor=\"middle\" x=\"149.88\" y=\"-124.7\" font-family=\"Times,serif\" font-size=\"14.00\">grad &#45;4.0000</text>\n",
       "</g>\n",
       "<!-- 5725479120* -->\n",
       "<g id=\"node6\" class=\"node\">\n",
       "<title>5725479120*</title>\n",
       "<ellipse fill=\"none\" stroke=\"black\" cx=\"255.75\" cy=\"-101.5\" rx=\"27\" ry=\"18\"/>\n",
       "<text text-anchor=\"middle\" x=\"255.75\" y=\"-96.45\" font-family=\"Times,serif\" font-size=\"14.00\">*</text>\n",
       "</g>\n",
       "<!-- 4961902160&#45;&gt;5725479120* -->\n",
       "<g id=\"edge6\" class=\"edge\">\n",
       "<title>4961902160&#45;&gt;5725479120*</title>\n",
       "<path fill=\"none\" stroke=\"black\" d=\"M193,-112.49C201.81,-110.92 210.32,-109.41 218.06,-108.03\"/>\n",
       "<polygon fill=\"black\" stroke=\"black\" points=\"218.43,-111.52 227.66,-106.32 217.21,-104.62 218.43,-111.52\"/>\n",
       "</g>\n",
       "<!-- 5761298000 -->\n",
       "<g id=\"node2\" class=\"node\">\n",
       "<title>5761298000</title>\n",
       "<polygon fill=\"none\" stroke=\"black\" points=\"953.25,-27.5 953.25,-63.5 1143,-63.5 1143,-27.5 953.25,-27.5\"/>\n",
       "<text text-anchor=\"middle\" x=\"965.38\" y=\"-40.7\" font-family=\"Times,serif\" font-size=\"14.00\">L</text>\n",
       "<polyline fill=\"none\" stroke=\"black\" points=\"977.5,-28 977.5,-63.5\"/>\n",
       "<text text-anchor=\"middle\" x=\"1019.62\" y=\"-40.7\" font-family=\"Times,serif\" font-size=\"14.00\">data &#45;8.0000</text>\n",
       "<polyline fill=\"none\" stroke=\"black\" points=\"1061.75,-28 1061.75,-63.5\"/>\n",
       "<text text-anchor=\"middle\" x=\"1102.38\" y=\"-40.7\" font-family=\"Times,serif\" font-size=\"14.00\">grad 1.0000</text>\n",
       "</g>\n",
       "<!-- 5761298000* -->\n",
       "<g id=\"node3\" class=\"node\">\n",
       "<title>5761298000*</title>\n",
       "<ellipse fill=\"none\" stroke=\"black\" cx=\"890.25\" cy=\"-45.5\" rx=\"27\" ry=\"18\"/>\n",
       "<text text-anchor=\"middle\" x=\"890.25\" y=\"-40.45\" font-family=\"Times,serif\" font-size=\"14.00\">*</text>\n",
       "</g>\n",
       "<!-- 5761298000*&#45;&gt;5761298000 -->\n",
       "<g id=\"edge1\" class=\"edge\">\n",
       "<title>5761298000*&#45;&gt;5761298000</title>\n",
       "<path fill=\"none\" stroke=\"black\" d=\"M917.69,-45.5C924.84,-45.5 933.03,-45.5 941.74,-45.5\"/>\n",
       "<polygon fill=\"black\" stroke=\"black\" points=\"941.51,-49 951.51,-45.5 941.51,-42 941.51,-49\"/>\n",
       "</g>\n",
       "<!-- 4961896080 -->\n",
       "<g id=\"node4\" class=\"node\">\n",
       "<title>4961896080</title>\n",
       "<polygon fill=\"none\" stroke=\"black\" points=\"318.75,-28.5 318.75,-64.5 513,-64.5 513,-28.5 318.75,-28.5\"/>\n",
       "<text text-anchor=\"middle\" x=\"329.75\" y=\"-41.7\" font-family=\"Times,serif\" font-size=\"14.00\">c</text>\n",
       "<polyline fill=\"none\" stroke=\"black\" points=\"340.75,-29 340.75,-64.5\"/>\n",
       "<text text-anchor=\"middle\" x=\"384\" y=\"-41.7\" font-family=\"Times,serif\" font-size=\"14.00\">data 10.0000</text>\n",
       "<polyline fill=\"none\" stroke=\"black\" points=\"427.25,-29 427.25,-64.5\"/>\n",
       "<text text-anchor=\"middle\" x=\"470.12\" y=\"-41.7\" font-family=\"Times,serif\" font-size=\"14.00\">grad &#45;2.0000</text>\n",
       "</g>\n",
       "<!-- 4961903376+ -->\n",
       "<g id=\"node9\" class=\"node\">\n",
       "<title>4961903376+</title>\n",
       "<ellipse fill=\"none\" stroke=\"black\" cx=\"576\" cy=\"-73.5\" rx=\"27\" ry=\"18\"/>\n",
       "<text text-anchor=\"middle\" x=\"576\" y=\"-68.45\" font-family=\"Times,serif\" font-size=\"14.00\">+</text>\n",
       "</g>\n",
       "<!-- 4961896080&#45;&gt;4961903376+ -->\n",
       "<g id=\"edge4\" class=\"edge\">\n",
       "<title>4961896080&#45;&gt;4961903376+</title>\n",
       "<path fill=\"none\" stroke=\"black\" d=\"M513.41,-62.98C522.1,-64.47 530.5,-65.9 538.15,-67.21\"/>\n",
       "<polygon fill=\"black\" stroke=\"black\" points=\"537.55,-70.66 548,-68.89 538.73,-63.76 537.55,-70.66\"/>\n",
       "</g>\n",
       "<!-- 5725479120 -->\n",
       "<g id=\"node5\" class=\"node\">\n",
       "<title>5725479120</title>\n",
       "<polygon fill=\"none\" stroke=\"black\" points=\"319.88,-83.5 319.88,-119.5 511.88,-119.5 511.88,-83.5 319.88,-83.5\"/>\n",
       "<text text-anchor=\"middle\" x=\"330.88\" y=\"-96.7\" font-family=\"Times,serif\" font-size=\"14.00\">e</text>\n",
       "<polyline fill=\"none\" stroke=\"black\" points=\"341.88,-84 341.88,-119.5\"/>\n",
       "<text text-anchor=\"middle\" x=\"384\" y=\"-96.7\" font-family=\"Times,serif\" font-size=\"14.00\">data &#45;6.0000</text>\n",
       "<polyline fill=\"none\" stroke=\"black\" points=\"426.12,-84 426.12,-119.5\"/>\n",
       "<text text-anchor=\"middle\" x=\"469\" y=\"-96.7\" font-family=\"Times,serif\" font-size=\"14.00\">grad &#45;2.0000</text>\n",
       "</g>\n",
       "<!-- 5725479120&#45;&gt;4961903376+ -->\n",
       "<g id=\"edge7\" class=\"edge\">\n",
       "<title>5725479120&#45;&gt;4961903376+</title>\n",
       "<path fill=\"none\" stroke=\"black\" d=\"M512.05,-84.65C521.28,-83.01 530.2,-81.43 538.29,-80\"/>\n",
       "<polygon fill=\"black\" stroke=\"black\" points=\"538.74,-83.47 547.98,-78.28 537.52,-76.58 538.74,-83.47\"/>\n",
       "</g>\n",
       "<!-- 5725479120*&#45;&gt;5725479120 -->\n",
       "<g id=\"edge2\" class=\"edge\">\n",
       "<title>5725479120*&#45;&gt;5725479120</title>\n",
       "<path fill=\"none\" stroke=\"black\" d=\"M283.22,-101.5C290.59,-101.5 299.09,-101.5 308.13,-101.5\"/>\n",
       "<polygon fill=\"black\" stroke=\"black\" points=\"307.89,-105 317.89,-101.5 307.89,-98 307.89,-105\"/>\n",
       "</g>\n",
       "<!-- 4961906896 -->\n",
       "<g id=\"node7\" class=\"node\">\n",
       "<title>4961906896</title>\n",
       "<polygon fill=\"none\" stroke=\"black\" points=\"4.88,-56.5 4.88,-92.5 187.88,-92.5 187.88,-56.5 4.88,-56.5\"/>\n",
       "<text text-anchor=\"middle\" x=\"15.88\" y=\"-69.7\" font-family=\"Times,serif\" font-size=\"14.00\">a</text>\n",
       "<polyline fill=\"none\" stroke=\"black\" points=\"26.88,-57 26.88,-92.5\"/>\n",
       "<text text-anchor=\"middle\" x=\"66.75\" y=\"-69.7\" font-family=\"Times,serif\" font-size=\"14.00\">data 2.0000</text>\n",
       "<polyline fill=\"none\" stroke=\"black\" points=\"106.62,-57 106.62,-92.5\"/>\n",
       "<text text-anchor=\"middle\" x=\"147.25\" y=\"-69.7\" font-family=\"Times,serif\" font-size=\"14.00\">grad 6.0000</text>\n",
       "</g>\n",
       "<!-- 4961906896&#45;&gt;5725479120* -->\n",
       "<g id=\"edge5\" class=\"edge\">\n",
       "<title>4961906896&#45;&gt;5725479120*</title>\n",
       "<path fill=\"none\" stroke=\"black\" d=\"M188.01,-90.05C198.46,-91.84 208.62,-93.59 217.74,-95.15\"/>\n",
       "<polygon fill=\"black\" stroke=\"black\" points=\"217.11,-98.59 227.56,-96.84 218.3,-91.69 217.11,-98.59\"/>\n",
       "</g>\n",
       "<!-- 4961903376 -->\n",
       "<g id=\"node8\" class=\"node\">\n",
       "<title>4961903376</title>\n",
       "<polygon fill=\"none\" stroke=\"black\" points=\"639,-55.5 639,-91.5 827.25,-91.5 827.25,-55.5 639,-55.5\"/>\n",
       "<text text-anchor=\"middle\" x=\"650.38\" y=\"-68.7\" font-family=\"Times,serif\" font-size=\"14.00\">d</text>\n",
       "<polyline fill=\"none\" stroke=\"black\" points=\"661.75,-56 661.75,-91.5\"/>\n",
       "<text text-anchor=\"middle\" x=\"701.62\" y=\"-68.7\" font-family=\"Times,serif\" font-size=\"14.00\">data 4.0000</text>\n",
       "<polyline fill=\"none\" stroke=\"black\" points=\"741.5,-56 741.5,-91.5\"/>\n",
       "<text text-anchor=\"middle\" x=\"784.38\" y=\"-68.7\" font-family=\"Times,serif\" font-size=\"14.00\">grad &#45;2.0000</text>\n",
       "</g>\n",
       "<!-- 4961903376&#45;&gt;5761298000* -->\n",
       "<g id=\"edge9\" class=\"edge\">\n",
       "<title>4961903376&#45;&gt;5761298000*</title>\n",
       "<path fill=\"none\" stroke=\"black\" d=\"M827.49,-56.65C836.36,-55.05 844.93,-53.5 852.73,-52.09\"/>\n",
       "<polygon fill=\"black\" stroke=\"black\" points=\"853.2,-55.56 862.42,-50.34 851.95,-48.68 853.2,-55.56\"/>\n",
       "</g>\n",
       "<!-- 4961903376+&#45;&gt;4961903376 -->\n",
       "<g id=\"edge3\" class=\"edge\">\n",
       "<title>4961903376+&#45;&gt;4961903376</title>\n",
       "<path fill=\"none\" stroke=\"black\" d=\"M603.31,-73.5C610.49,-73.5 618.72,-73.5 627.47,-73.5\"/>\n",
       "<polygon fill=\"black\" stroke=\"black\" points=\"627.29,-77 637.29,-73.5 627.29,-70 627.29,-77\"/>\n",
       "</g>\n",
       "<!-- 4961901840 -->\n",
       "<g id=\"node10\" class=\"node\">\n",
       "<title>4961901840</title>\n",
       "<polygon fill=\"none\" stroke=\"black\" points=\"640.12,-0.5 640.12,-36.5 826.12,-36.5 826.12,-0.5 640.12,-0.5\"/>\n",
       "<text text-anchor=\"middle\" x=\"650.38\" y=\"-13.7\" font-family=\"Times,serif\" font-size=\"14.00\">f</text>\n",
       "<polyline fill=\"none\" stroke=\"black\" points=\"660.62,-1 660.62,-36.5\"/>\n",
       "<text text-anchor=\"middle\" x=\"702.75\" y=\"-13.7\" font-family=\"Times,serif\" font-size=\"14.00\">data &#45;2.0000</text>\n",
       "<polyline fill=\"none\" stroke=\"black\" points=\"744.88,-1 744.88,-36.5\"/>\n",
       "<text text-anchor=\"middle\" x=\"785.5\" y=\"-13.7\" font-family=\"Times,serif\" font-size=\"14.00\">grad 4.0000</text>\n",
       "</g>\n",
       "<!-- 4961901840&#45;&gt;5761298000* -->\n",
       "<g id=\"edge8\" class=\"edge\">\n",
       "<title>4961901840&#45;&gt;5761298000*</title>\n",
       "<path fill=\"none\" stroke=\"black\" d=\"M826.6,-34.6C835.76,-36.19 844.62,-37.73 852.67,-39.13\"/>\n",
       "<polygon fill=\"black\" stroke=\"black\" points=\"851.85,-42.54 862.3,-40.81 853.05,-35.65 851.85,-42.54\"/>\n",
       "</g>\n",
       "</g>\n",
       "</svg>\n"
      ],
      "text/plain": [
       "<graphviz.graphs.Digraph at 0x127caeb50>"
      ]
     },
     "execution_count": 152,
     "metadata": {},
     "output_type": "execute_result"
    }
   ],
   "source": [
    "a.grad = -2.0 * -3.0\n",
    "b.grad = -2.0 * 2.0\n",
    "\n",
    "\n",
    "# Let's verify manually!\n",
    "def out_scope():\n",
    "    a = Value(2.0, label=\"a\")\n",
    "    b = Value(-3.0, label=\"b\")\n",
    "    c = Value(10.0, label=\"c\")\n",
    "    e = a * b\n",
    "    e.label = \"e\"\n",
    "    d = e + c\n",
    "    d.label = \"d\"\n",
    "    f = Value(-2.0, label=\"f\")\n",
    "    L = d * f\n",
    "    L.label = \"L\"\n",
    "\n",
    "    h = 0.00000001\n",
    "    a = Value(2.0 + h, label=\"a\")\n",
    "    b = Value(-3.0, label=\"b\")\n",
    "    c = Value(10.0, label=\"c\")\n",
    "    e = a * b\n",
    "    e.label = \"e\"\n",
    "    d = e + c\n",
    "    d.label = \"d\"\n",
    "    f = Value(-2.0, label=\"f\")\n",
    "    L_NEW = d * f\n",
    "    L_NEW.label = \"L\"\n",
    "\n",
    "    print(\"Derivative of L with respect to a: \", (L_NEW.data - L.data) / h)\n",
    "\n",
    "out_scope()\n",
    "\n",
    "\n",
    "def out_scope():\n",
    "    a = Value(2.0, label=\"a\")\n",
    "    b = Value(-3.0, label=\"b\")\n",
    "    c = Value(10.0, label=\"c\")\n",
    "    e = a * b\n",
    "    e.label = \"e\"\n",
    "    d = e + c\n",
    "    d.label = \"d\"\n",
    "    f = Value(-2.0, label=\"f\")\n",
    "    L = d * f\n",
    "    L.label = \"L\"\n",
    "\n",
    "    h = 0.00000001\n",
    "    a = Value(2.0, label=\"a\")\n",
    "    b = Value(-3.0 + h, label=\"b\")\n",
    "    c = Value(10.0, label=\"c\")\n",
    "    e = a * b\n",
    "    e.label = \"e\"\n",
    "    d = e + c\n",
    "    d.label = \"d\"\n",
    "    f = Value(-2.0, label=\"f\")\n",
    "    L_NEW = d * f\n",
    "    L_NEW.label = \"L\"\n",
    "\n",
    "    print(\"Derivative of L with respect to b: \", (L_NEW.data - L.data) / h)\n",
    "\n",
    "out_scope()\n",
    "\n",
    "\n",
    "draw_dot(L)"
   ]
  }
 ],
 "metadata": {
  "kernelspec": {
   "display_name": "Python 3",
   "language": "python",
   "name": "python3"
  },
  "language_info": {
   "codemirror_mode": {
    "name": "ipython",
    "version": 3
   },
   "file_extension": ".py",
   "mimetype": "text/x-python",
   "name": "python",
   "nbconvert_exporter": "python",
   "pygments_lexer": "ipython3",
   "version": "3.11.9"
  }
 },
 "nbformat": 4,
 "nbformat_minor": 2
}
